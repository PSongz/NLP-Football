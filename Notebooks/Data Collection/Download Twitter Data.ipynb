{
 "cells": [
  {
   "cell_type": "code",
   "execution_count": 2,
   "metadata": {
    "ExecuteTime": {
     "end_time": "2020-02-07T13:58:50.781216Z",
     "start_time": "2020-02-07T13:58:50.360780Z"
    }
   },
   "outputs": [],
   "source": [
    "import tweepy\n",
    "import csv\n",
    "import sys\n",
    "import io\n",
    "\n",
    "#Twitter API credentials\n",
    "consumer_key = \"JMa27mVbSzGBtBmHspqQ4ln7p\"\n",
    "consumer_secret = \"IgkubFPCyPSbk2NGaoca6ULuqoOuFfFhVOnW8wSOclud7g8VSe\"\n",
    "access_key = \"1214114293546807297-xkXbFVM3jZHqzdtKnLm303GJJa5qpO\"\n",
    "access_secret = \"TCcGYTxEdR08OHFngGw6j8ExAmSsEyB8H6Z4UC3ywf9YZ\"\n",
    "\n",
    "PATH= r'C:\\Users\\clement.laplace\\Documents\\Perso\\EPL Pred\\Data\\Twitter'"
   ]
  },
  {
   "cell_type": "code",
   "execution_count": 3,
   "metadata": {
    "ExecuteTime": {
     "end_time": "2020-02-07T13:58:51.427983Z",
     "start_time": "2020-02-07T13:58:51.418943Z"
    }
   },
   "outputs": [],
   "source": [
    "def get_all_tweets(teams):\n",
    "    #Gets Last 200 tweets per team\n",
    "    #Twitter API credentials\n",
    "    consumer_key = \"JMa27mVbSzGBtBmHspqQ4ln7p\"\n",
    "    consumer_secret = \"IgkubFPCyPSbk2NGaoca6ULuqoOuFfFhVOnW8wSOclud7g8VSe\"\n",
    "    access_key = \"1214114293546807297-xkXbFVM3jZHqzdtKnLm303GJJa5qpO\"\n",
    "    access_secret = \"TCcGYTxEdR08OHFngGw6j8ExAmSsEyB8H6Z4UC3ywf9YZ\"\n",
    "    #authorize twitter, initialize tweepy\n",
    "    auth = tweepy.OAuthHandler(consumer_key, consumer_secret)\n",
    "    auth.set_access_token(access_key, access_secret)\n",
    "    api = tweepy.API(auth)\n",
    "    for team in teams:\n",
    "        #initialize a list to hold all the tweepy Tweets\n",
    "        teamtweets = []\n",
    "        for hashtag in teams[team]:\n",
    "            \n",
    "            #make initial request for most recent tweets (200 is the maximum allowed count)\n",
    "            new_tweets =api.search(q=hashtag+'-filter:retweets', result_type=\"recent\", lang=\"en\",count=200,tweet_mode='extended')\n",
    "\n",
    "            #save most recent tweets\n",
    "            teamtweets.extend(new_tweets)\n",
    "\n",
    "            #save the id of the oldest tweet less one\n",
    "            #oldest = alltweets[-1].id - 1\n",
    "\n",
    "\n",
    "            #transform the tweepy tweets into a 2D array that will populate the csv\t\n",
    "            outtweets = [[tweet.id_str, tweet.created_at, tweet.full_text.encode(\"utf-8\"), tweet.retweet_count, tweet.favorite_count, [tweet.entities['hashtags'][i]['text'] for i in range(len(tweet.entities['hashtags']))]] for tweet in alltweets]\n",
    "        #write the csv\n",
    "        with open(PATH + '\\%s_tweets.csv' % team, 'w',encoding=\"utf-8\") as f:\n",
    "            writer = csv.writer(f)\n",
    "            writer.writerow([\"id\",\"created_at\",\"text\",\"retweet count\",\"favorite count\",\"hashtags\"])\n",
    "            writer.writerows(outtweets)\n",
    "\n",
    "        pass"
   ]
  },
  {
   "cell_type": "code",
   "execution_count": 4,
   "metadata": {
    "scrolled": false
   },
   "outputs": [],
   "source": [
    "#pass in the username of the account you want to download\n",
    "team_dict={'ARS':['@arsenal', '#afc','#Arsenal','#COYG','#Gunners','#WeAreTheArsenal','#Gooners','#thegunners','#comeonarsenal'],\n",
    "       \n",
    "       'BOU': ['@afcbournemouth','#afcb', '#bournemouth','#thecherries'],\n",
    "       'BHA':['@OfficialBHAFC','#BrightonAndHoveAlbionFC','#BHAFC'],\n",
    "       'BUR':['@BurnleyOfficial','#twitterclarets','#BurnleyFC','#Clarets'],\n",
    "       'CHE': ['@ChelseaFC','#cfc', '#chelsea','#ChelseaFC'],\n",
    "       'CRY': ['@CPFC','#cpfc', '#crystalpalace'],\n",
    "       'EVE': ['@Everton','#efc','#coyb', '#everton','#evertonfc'],\n",
    "       'HUD': [],\n",
    "       'LEI': ['@LCFC','#lcfc', '#leicesterfc', '#leicestercity',\n",
    "                    '#leicestercityfc'],\n",
    "       'LIV': ['@LFC','#LFC', '#YNWA','#youwillneverwalkalone','#liverpoolfc', '#livfc'],\n",
    "       'MCI': ['@ManCity','#MCFC', '#manchestercity', '#mancity','#TheSkyBlues','#manchestercityfc'],\n",
    "       'MUN': ['@ManUtd','#mufc', '#manchesterunited', '#manutd','GGMU','manunited'],\n",
    "       'NEW': ['@NUFC','#nufc','#ToonArmy', '#newcastlefc', '#newcastleunited',\n",
    "                    '#newcastleunitedfc','#TheMagpies'],\n",
    "       'Norwich': ['@NorwichCityFC','#ncfc', '#norwichcity'],\n",
    "       'Sheffield': ['@SheffieldUnited','#sufc', '#twitterblades'],\n",
    "       'SOU': ['@SouthamptonFC','#saintsfc', '#southamptonfc'],\n",
    "       'STK': [],\n",
    "       'SWA':[],\n",
    "       'TOT': ['@SpursOfficial','#coys','#THFC','#Tottenham','#TottenhamHotspur', '#tottenhamfc', '#spursfc',\n",
    "                    '#hotspurfc', '#tottenhamhotspurfc'],\n",
    "       'Villa': ['@AVFCOfficial','#avfc', '#astonvilla', '#astonvillafc', '#villafc'],\n",
    "       'WAT': ['@WatfordFC','#TheHornets','#watfordfc'],\n",
    "       'WBA': []\n",
    "       'WHU': ['@WestHamUtd','#COYI','#WestHam','#whufc', '#westhamfc', '#westhamunited', '#westhamunitedfc',\n",
    "                  '#whu'],\n",
    "       'Wolverhampton': ['@Wolves','#WolverhamptonWanderers','#wwfc']\n",
    "      }\n"
   ]
  },
  {
   "cell_type": "code",
   "execution_count": 5,
   "metadata": {
    "scrolled": true
   },
   "outputs": [],
   "source": [
    "get_all_tweets(teams)"
   ]
  },
  {
   "cell_type": "code",
   "execution_count": 118,
   "metadata": {},
   "outputs": [
    {
     "data": {
      "text/plain": [
       "'ArsenalFC'"
      ]
     },
     "execution_count": 118,
     "metadata": {},
     "output_type": "execute_result"
    }
   ],
   "source": [
    "new_tweets[3].entities['hashtags'][0]['text']"
   ]
  },
  {
   "cell_type": "code",
   "execution_count": 1,
   "metadata": {
    "ExecuteTime": {
     "end_time": "2020-02-07T13:54:49.182547Z",
     "start_time": "2020-02-07T13:54:49.138582Z"
    }
   },
   "outputs": [
    {
     "ename": "NameError",
     "evalue": "name 'api' is not defined",
     "output_type": "error",
     "traceback": [
      "\u001b[1;31m---------------------------------------------------------------------------\u001b[0m",
      "\u001b[1;31mNameError\u001b[0m                                 Traceback (most recent call last)",
      "\u001b[1;32m<ipython-input-1-91e9cdd9de0e>\u001b[0m in \u001b[0;36m<module>\u001b[1;34m\u001b[0m\n\u001b[1;32m----> 1\u001b[1;33m \u001b[0mnew_tweets\u001b[0m \u001b[1;33m=\u001b[0m\u001b[0mapi\u001b[0m\u001b[1;33m.\u001b[0m\u001b[0msearch\u001b[0m\u001b[1;33m(\u001b[0m\u001b[0mq\u001b[0m\u001b[1;33m=\u001b[0m\u001b[1;34m'leicestercity'\u001b[0m\u001b[1;33m+\u001b[0m\u001b[1;34m'-filter:retweets'\u001b[0m\u001b[1;33m,\u001b[0m \u001b[0mresult_type\u001b[0m\u001b[1;33m=\u001b[0m\u001b[1;34m\"recent\"\u001b[0m\u001b[1;33m,\u001b[0m \u001b[0mlang\u001b[0m\u001b[1;33m=\u001b[0m\u001b[1;34m\"en\"\u001b[0m\u001b[1;33m,\u001b[0m\u001b[0mcount\u001b[0m\u001b[1;33m=\u001b[0m\u001b[1;36m100\u001b[0m\u001b[1;33m,\u001b[0m\u001b[0mtweet_mode\u001b[0m\u001b[1;33m=\u001b[0m\u001b[1;34m'extended'\u001b[0m\u001b[1;33m)\u001b[0m\u001b[1;33m\u001b[0m\u001b[1;33m\u001b[0m\u001b[0m\n\u001b[0m\u001b[0;32m      2\u001b[0m \u001b[1;32mfor\u001b[0m \u001b[0mi\u001b[0m \u001b[1;32min\u001b[0m \u001b[0mrange\u001b[0m\u001b[1;33m(\u001b[0m\u001b[0mlen\u001b[0m\u001b[1;33m(\u001b[0m\u001b[0mnew_tweets\u001b[0m\u001b[1;33m)\u001b[0m\u001b[1;33m)\u001b[0m\u001b[1;33m:\u001b[0m\u001b[1;33m\u001b[0m\u001b[1;33m\u001b[0m\u001b[0m\n\u001b[0;32m      3\u001b[0m     \u001b[0mprint\u001b[0m\u001b[1;33m(\u001b[0m\u001b[0mnew_tweets\u001b[0m\u001b[1;33m[\u001b[0m\u001b[0mi\u001b[0m\u001b[1;33m]\u001b[0m\u001b[1;33m.\u001b[0m\u001b[0mfull_text\u001b[0m\u001b[1;33m)\u001b[0m\u001b[1;33m\u001b[0m\u001b[1;33m\u001b[0m\u001b[0m\n",
      "\u001b[1;31mNameError\u001b[0m: name 'api' is not defined"
     ]
    }
   ],
   "source": [
    "new_tweets =api.search(q='leicestercity'+'-filter:retweets', result_type=\"recent\", lang=\"en\",count=100,tweet_mode='extended')\n",
    "for i in range(len(new_tweets)):\n",
    "    print(new_tweets[i].full_text)\n"
   ]
  }
 ],
 "metadata": {
  "kernelspec": {
   "display_name": "Python 3",
   "language": "python",
   "name": "python3"
  },
  "language_info": {
   "codemirror_mode": {
    "name": "ipython",
    "version": 3
   },
   "file_extension": ".py",
   "mimetype": "text/x-python",
   "name": "python",
   "nbconvert_exporter": "python",
   "pygments_lexer": "ipython3",
   "version": "3.7.3"
  },
  "toc": {
   "base_numbering": 1,
   "nav_menu": {},
   "number_sections": true,
   "sideBar": true,
   "skip_h1_title": false,
   "title_cell": "Table of Contents",
   "title_sidebar": "Contents",
   "toc_cell": false,
   "toc_position": {},
   "toc_section_display": true,
   "toc_window_display": false
  }
 },
 "nbformat": 4,
 "nbformat_minor": 1
}
