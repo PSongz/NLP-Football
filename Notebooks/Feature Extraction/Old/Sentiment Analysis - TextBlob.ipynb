{
 "cells": [
  {
   "cell_type": "code",
   "execution_count": 52,
   "metadata": {},
   "outputs": [],
   "source": [
    "import textblob\n",
    "import re \n",
    "from textblob import TextBlob \n",
    "import tweepy"
   ]
  },
  {
   "cell_type": "code",
   "execution_count": 59,
   "metadata": {},
   "outputs": [],
   "source": [
    "class TwitterClient(object): \n",
    "    ''' \n",
    "    Generic Twitter Class for sentiment analysis. \n",
    "    '''\n",
    "    def __init__(self): \n",
    "        ''' \n",
    "        Class constructor or initialization method. \n",
    "        '''\n",
    "        # keys and tokens from the Twitter Dev Console \n",
    "        consumer_key = \"JMa27mVbSzGBtBmHspqQ4ln7p\"\n",
    "        consumer_secret = \"IgkubFPCyPSbk2NGaoca6ULuqoOuFfFhVOnW8wSOclud7g8VSe\"\n",
    "        access_token = \"1214114293546807297-xkXbFVM3jZHqzdtKnLm303GJJa5qpO\"\n",
    "        access_token_secret = \"TCcGYTxEdR08OHFngGw6j8ExAmSsEyB8H6Z4UC3ywf9YZ\"\n",
    "  \n",
    "        # attempt authentication \n",
    "        try: \n",
    "            # create OAuthHandler object \n",
    "            self.auth = tweepy.OAuthHandler(consumer_key, consumer_secret) \n",
    "            # set access token and secret \n",
    "            self.auth.set_access_token(access_token, access_token_secret) \n",
    "            # create tweepy API object to fetch tweets \n",
    "            self.api = tweepy.API(self.auth) \n",
    "        except: \n",
    "            print(\"Error: Authentication Failed\") \n",
    "\n",
    "    def clean_tweet(self, tweet): \n",
    "        ''' Utility function to clean tweet text by removing links, special characters \n",
    "            using simple regex statements.'''\n",
    "        return ' '.join(re.sub(\"(@[A-Za-z0-9]+)|([^0-9A-Za-z \\t])|(\\w+:\\/\\/\\S+)\", \" \", tweet).split())\n",
    "    def get_tweet_sentiment(self, tweet): \n",
    "        ''' \n",
    "        Utility function to classify sentiment of passed tweet \n",
    "        using textblob's sentiment method \n",
    "        '''\n",
    "        # create TextBlob object of passed tweet text \n",
    "        analysis = TextBlob(self.clean_tweet(tweet)) \n",
    "        # set sentiment \n",
    "        if analysis.sentiment.polarity > 0: \n",
    "            return 'positive'\n",
    "        elif analysis.sentiment.polarity == 0: \n",
    "            return 'neutral'\n",
    "        else: \n",
    "            return 'negative'\n",
    "    def get_tweets(self, query, count, tweet_mode, lang): \n",
    "        ''' \n",
    "        Main function to fetch tweets and parse them. \n",
    "        '''\n",
    "        # empty list to store parsed tweets \n",
    "        tweets = [] \n",
    "\n",
    "        try: \n",
    "            # call twitter api to fetch tweets \n",
    "            fetched_tweets = self.api.search(q = query, count = count, tweet_mode = tweet_mode, lang =lang) \n",
    "\n",
    "            # parsing tweets one by one \n",
    "            for tweet in fetched_tweets: \n",
    "                # empty dictionary to store required params of a tweet \n",
    "                parsed_tweet = {} \n",
    "\n",
    "                # saving text of tweet \n",
    "                parsed_tweet['text'] = tweet.full_text \n",
    "                # saving sentiment of tweet \n",
    "                parsed_tweet['sentiment'] = self.get_tweet_sentiment(tweet.full_text) \n",
    "\n",
    "                # appending parsed tweet to tweets list \n",
    "                if tweet.retweet_count > 0: \n",
    "                    # if tweet has retweets, ensure that it is appended only once \n",
    "                    if parsed_tweet not in tweets: \n",
    "                        tweets.append(parsed_tweet)\n",
    "                else: \n",
    "                    tweets.append(parsed_tweet) \n",
    "\n",
    "            # return parsed tweets \n",
    "            return tweets \n",
    "\n",
    "        except tweepy.TweepError as e: \n",
    "            # print error (if any) \n",
    "            print(\"Error : \" + str(e)) "
   ]
  },
  {
   "cell_type": "code",
   "execution_count": 74,
   "metadata": {},
   "outputs": [],
   "source": [
    "\n",
    "def main(): \n",
    "    # creating object of TwitterClient Class \n",
    "    api = TwitterClient() \n",
    "    # calling function to get tweets \n",
    "    tweets =api.get_tweets(query ='#LFC',count=100, tweet_mode='extended',lang = 'en')\n",
    "    # picking positive tweets from tweets \n",
    "    ptweets = [tweet for tweet in tweets if tweet['sentiment'] == 'positive'] \n",
    "    \n",
    "    # picking negative tweets from tweets \n",
    "    ntweets = [tweet for tweet in tweets if tweet['sentiment'] == 'negative'] \n",
    "    \n",
    "     \n",
    "    perc_pos=100*len(ptweets)/len(tweets)\n",
    "    perc_neg =100*len(ntweets)/len(tweets)\n",
    "    perc_neut =100-perc_pos-perc_neg\n",
    "    # percentage of positive tweets \n",
    "    print(\"Positive tweets percentage: {} %\".format(100*len(ptweets)/len(tweets))) \n",
    "    # percentage of negative tweets \n",
    "    print(\"Negative tweets percentage: {} %\".format(100*len(ntweets)/len(tweets))) \n",
    "    # percentage of neutral tweets \n",
    "    print(\"Neutral tweets percentage: {} % \\ \".format(perc_neut))\n",
    "    print(ptweets)"
   ]
  },
  {
   "cell_type": "code",
   "execution_count": 75,
   "metadata": {},
   "outputs": [
    {
     "name": "stdout",
     "output_type": "stream",
     "text": [
      "Positive tweets percentage: 53.333333333333336 %\n",
      "Negative tweets percentage: 11.11111111111111 %\n",
      "Neutral tweets percentage: 35.55555555555556 % \\ \n",
      "[{'text': \"Rumours suggesting dates for the 2021 Africa Cup of Nations will be confirmed today... and it's not looking good for #LFC 😬\\n\\nhttps://t.co/qGXQgvaVGH https://t.co/LT0J3rkw9E\", 'sentiment': 'positive'}, {'text': 'RT @GrizzKhan: Haven’t seen it slowed down as much as this ..just look at each players facial reaction ,the joy ,the elation ...now start p…', 'sentiment': 'positive'}, {'text': 'RT @TheKop_com: As Adam Lallana’s contract runs out in the summer, what should we do? 👇 #LFC \\n\\n1️⃣ Offer him a new contract.\\n2️⃣ Let him go…', 'sentiment': 'positive'}, {'text': 'RT @RedAnfieId: #LFC iPhone Wallpaper trilogy ⭐️ \\n⭐️ RF9/TAA/VVD ⭐️\\n\\n♻️ + ♥️ Always appreciated to grow my audience 😇\\n\\nTempted to get back…', 'sentiment': 'positive'}, {'text': 'Coventry City transfer news live - latest as Sam McCallum is linked with Liverpool and Leeds United #ccfc #lfc #lufc \\nhttps://t.co/3DuKFUpQmS', 'sentiment': 'positive'}, {'text': '@Liverpoolcom_ @LivEchoLFC @dan_morgan3 Seriously when did #Klopp make  any emotional decisions regarding #LFC transfer in last 5 years. We the supporters on other hand wanted so many signings last summer and before that.', 'sentiment': 'positive'}, {'text': 'West Ham away boxed off, can’t wait to get this game in hand out the way 👁 👁 at our true position at the top... #lfc #whuLfc', 'sentiment': 'positive'}, {'text': 'Can’t wait for the new training ground to be completed. Huge for the club #Kirkby #LFC', 'sentiment': 'positive'}, {'text': 'RT @LivEchoLFC: #LFC are reportedly set to make a club-record bid for the German 👀\\n\\n@TheoSquiresEcho has the latest transfer gossip from 🇩🇪…', 'sentiment': 'positive'}, {'text': 'RT @Klopp1892: Question for reds, it’s lurking about would you like Havertz for the price he’s at or would you like us to go for more unkno…', 'sentiment': 'positive'}, {'text': 'RT @LFCRetail: 🤩 Good news, Reds! 🤩\\n\\nThe Club World Cup winners badge can now be added to all 19/20 @LFC jerseys, including pre-bought, in…', 'sentiment': 'positive'}, {'text': 'RT @luchogarcia14: Our mate Momo Sissoko have decided to end his football time. Congratulations for you fantastic career Momo. Never seen a…', 'sentiment': 'positive'}, {'text': \"RT @milesoffsidepod: 🚨🚨 NEW EPISODE ALERT!! 🚨🚨\\n\\nThis week: Problems for Zlatan's statue, Liverpool's inevitable title win, and stupid marat…\", 'sentiment': 'positive'}, {'text': 'Question for reds, it’s lurking about would you like Havertz for the price he’s at or would you like us to go for more unknown players like minamino? RT’s appreciated #LFC #YNWA', 'sentiment': 'positive'}, {'text': \"🚨🚨 NEW EPISODE ALERT!! 🚨🚨\\n\\nThis week: Problems for Zlatan's statue, Liverpool's inevitable title win, and stupid marathon runs are all on the agenda. Thanks for listening!\\n\\n#soccer #football #EPL #PL #FPL #GW22 #MUFC #MCFC #THFC #AFC #CFC #LFC #CPFC\\n\\nhttps://t.co/dU09uzAYYz\", 'sentiment': 'positive'}, {'text': 'Breaking News: \\n\\nAFCON 2021 will be played during January/February period, reverting back to the old system. \\n\\nHuge impact for #LFC. Also anyone suggesting the big African players would skip an AFCON clearly don’t understand/appreciate how massive playing for their countries is', 'sentiment': 'positive'}, {'text': 'RT @JamesPearceLFC: Great to spend some time with Youri Djorkaeff. What a player he was. Talked about why he snubbed Liverpool to join Bolt…', 'sentiment': 'positive'}, {'text': 'RT @FootballRebrand: The #FACup tonight , Man Utd vs Wolves \\n\\nWho wins ? \\n\\n#follow #EPL #PremierLeague #LFC #MCFC #Salah #Kane #Aguero #Ste…', 'sentiment': 'positive'}, {'text': '@bernardooooV3 You don’t know Klopp mate It was just the start not bcs of City but only bcs of Pep. City is never the rival of #LFC. I know JK from Germany, he‘ll never stop or have enough. He‘ll keep shooting “his” rivals even they’re already dead after he lived rent free. Look at his team now', 'sentiment': 'positive'}, {'text': 'RT @DaveOCKOP: Good news. The Club World Cup winners badge can now be added to all 19/20 @LFC jerseys, including pre-bought, in any of our…', 'sentiment': 'positive'}, {'text': 'RT @TheKopHQ: Love this photo #ChampionsWall #LFC 🔴🏆 https://t.co/3XwoMvnvwC', 'sentiment': 'positive'}, {'text': \"RT @empireofthekop: Would just like to take a moment to wish Pepe Reina good luck at Aston Villa. He's genuinely one of the best goalkeeper…\", 'sentiment': 'positive'}, {'text': 'Thanks for the follow mate #YNWA #LFC 🔴🔴🔴🔴🔴🔴', 'sentiment': 'positive'}, {'text': 'Premier League and Champions League stats:\\n\\nCristiano Ronaldo 2007-2009\\n61 goals ⚽️ \\n18 assists 🅰️\\n\\nMohamed Salah 2017-2019 \\n71 goals ⚽️\\n29 assists 🅰️\\n\\nYou Love To See It. #LFC #YNWA https://t.co/aoddIm7aur', 'sentiment': 'positive'}]\n"
     ]
    }
   ],
   "source": [
    "if __name__ == \"__main__\": \n",
    "    # calling main function \n",
    "    main() "
   ]
  },
  {
   "cell_type": "code",
   "execution_count": 73,
   "metadata": {},
   "outputs": [
    {
     "ename": "NameError",
     "evalue": "name 'ntweets' is not defined",
     "output_type": "error",
     "traceback": [
      "\u001b[1;31m---------------------------------------------------------------------------\u001b[0m",
      "\u001b[1;31mNameError\u001b[0m                                 Traceback (most recent call last)",
      "\u001b[1;32m<ipython-input-73-e6e43692b285>\u001b[0m in \u001b[0;36m<module>\u001b[1;34m\u001b[0m\n\u001b[1;32m----> 1\u001b[1;33m \u001b[0mprint\u001b[0m\u001b[1;33m(\u001b[0m\u001b[0mntweets\u001b[0m\u001b[1;33m)\u001b[0m\u001b[1;33m\u001b[0m\u001b[1;33m\u001b[0m\u001b[0m\n\u001b[0m",
      "\u001b[1;31mNameError\u001b[0m: name 'ntweets' is not defined"
     ]
    }
   ],
   "source": []
  }
 ],
 "metadata": {
  "kernelspec": {
   "display_name": "Python 3",
   "language": "python",
   "name": "python3"
  },
  "language_info": {
   "codemirror_mode": {
    "name": "ipython",
    "version": 3
   },
   "file_extension": ".py",
   "mimetype": "text/x-python",
   "name": "python",
   "nbconvert_exporter": "python",
   "pygments_lexer": "ipython3",
   "version": "3.7.3"
  }
 },
 "nbformat": 4,
 "nbformat_minor": 2
}
