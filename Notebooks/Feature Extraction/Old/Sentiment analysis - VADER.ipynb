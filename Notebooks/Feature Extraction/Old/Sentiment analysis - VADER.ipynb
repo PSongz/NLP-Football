{
 "cells": [
  {
   "cell_type": "code",
   "execution_count": 2,
   "metadata": {
    "ExecuteTime": {
     "end_time": "2020-05-17T12:55:20.732334Z",
     "start_time": "2020-05-17T12:55:18.781382Z"
    }
   },
   "outputs": [],
   "source": [
    "import pandas as pd\n",
    "import numpy as np\n",
    "from vaderSentiment.vaderSentiment import SentimentIntensityAnalyzer\n",
    "from tqdm import tqdm_notebook\n"
   ]
  },
  {
   "cell_type": "code",
   "execution_count": 10,
   "metadata": {
    "ExecuteTime": {
     "end_time": "2020-05-17T13:53:08.182175Z",
     "start_time": "2020-05-17T13:53:04.206734Z"
    }
   },
   "outputs": [],
   "source": [
    "df=pd.read_csv(r'C:\\Users\\clement.laplace\\Documents\\Perso\\EPL Pred\\Notebooks\\tweets18.csv')"
   ]
  },
  {
   "cell_type": "code",
   "execution_count": 15,
   "metadata": {
    "ExecuteTime": {
     "end_time": "2020-05-17T13:57:14.812490Z",
     "start_time": "2020-05-17T13:57:14.798188Z"
    }
   },
   "outputs": [],
   "source": [
    "def get_score(path_df):\n",
    "    \n",
    "    df_team= get_sentiment(path_df)\n",
    "    team_score= [sum(df_team['pos'])/len(df_team),sum(df_team['neg'])/len(df_team),df_team['compound'].sum()/len(df_team)]\n",
    "    return team_score\n",
    "\n",
    "\n",
    "def get_sentiment(path_df):\n",
    "    analyser = SentimentIntensityAnalyzer()\n",
    "    df = pd.read_csv(path_df)\n",
    "    if 'pos' not in df:\n",
    "        df['pos']=np.nan\n",
    "    if 'neg' not in df:\n",
    "        df['neg']=np.nan\n",
    "    if 'neu' not in df:\n",
    "        df['neu']=np.nan\n",
    "    if 'compound' not in df:\n",
    "        df['compound']=np.nan\n",
    "    for i in tqdm_notebook(range(len(df))):\n",
    "        score = analyser.polarity_scores(df['tweet_text'][i])\n",
    "        df['pos'][i]=score['pos']\n",
    "        df['neg'][i]=score['neg']\n",
    "        df['neu'][i]=score['neu']\n",
    "        df['compound'][i]=score['compound']\n",
    "    \n",
    "    return df"
   ]
  },
  {
   "cell_type": "code",
   "execution_count": 16,
   "metadata": {
    "ExecuteTime": {
     "end_time": "2020-05-18T08:08:33.823683Z",
     "start_time": "2020-05-17T13:57:15.252773Z"
    }
   },
   "outputs": [
    {
     "name": "stderr",
     "output_type": "stream",
     "text": [
      "C:\\Users\\clement.laplace\\AppData\\Local\\Continuum\\anaconda3\\lib\\site-packages\\ipykernel_launcher.py:19: TqdmDeprecationWarning: This function will be removed in tqdm==5.0.0\n",
      "Please use `tqdm.notebook.tqdm` instead of `tqdm.tqdm_notebook`\n"
     ]
    },
    {
     "data": {
      "application/vnd.jupyter.widget-view+json": {
       "model_id": "8a209abfa5204232bc7cc7772db60084",
       "version_major": 2,
       "version_minor": 0
      },
      "text/plain": [
       "HBox(children=(FloatProgress(value=0.0, max=337941.0), HTML(value='')))"
      ]
     },
     "metadata": {},
     "output_type": "display_data"
    },
    {
     "name": "stderr",
     "output_type": "stream",
     "text": [
      "C:\\Users\\clement.laplace\\AppData\\Local\\Continuum\\anaconda3\\lib\\site-packages\\ipykernel_launcher.py:21: SettingWithCopyWarning: \n",
      "A value is trying to be set on a copy of a slice from a DataFrame\n",
      "\n",
      "See the caveats in the documentation: https://pandas.pydata.org/pandas-docs/stable/user_guide/indexing.html#returning-a-view-versus-a-copy\n",
      "C:\\Users\\clement.laplace\\AppData\\Local\\Continuum\\anaconda3\\lib\\site-packages\\ipykernel_launcher.py:22: SettingWithCopyWarning: \n",
      "A value is trying to be set on a copy of a slice from a DataFrame\n",
      "\n",
      "See the caveats in the documentation: https://pandas.pydata.org/pandas-docs/stable/user_guide/indexing.html#returning-a-view-versus-a-copy\n",
      "C:\\Users\\clement.laplace\\AppData\\Local\\Continuum\\anaconda3\\lib\\site-packages\\ipykernel_launcher.py:23: SettingWithCopyWarning: \n",
      "A value is trying to be set on a copy of a slice from a DataFrame\n",
      "\n",
      "See the caveats in the documentation: https://pandas.pydata.org/pandas-docs/stable/user_guide/indexing.html#returning-a-view-versus-a-copy\n",
      "C:\\Users\\clement.laplace\\AppData\\Local\\Continuum\\anaconda3\\lib\\site-packages\\ipykernel_launcher.py:24: SettingWithCopyWarning: \n",
      "A value is trying to be set on a copy of a slice from a DataFrame\n",
      "\n",
      "See the caveats in the documentation: https://pandas.pydata.org/pandas-docs/stable/user_guide/indexing.html#returning-a-view-versus-a-copy\n"
     ]
    },
    {
     "name": "stdout",
     "output_type": "stream",
     "text": [
      "\n"
     ]
    }
   ],
   "source": [
    "sent=get_sentiment(r'C:\\Users\\clement.laplace\\Documents\\Perso\\EPL Pred\\Notebooks\\tweets18.csv')"
   ]
  },
  {
   "cell_type": "code",
   "execution_count": 98,
   "metadata": {
    "ExecuteTime": {
     "end_time": "2020-02-10T09:57:29.980724Z",
     "start_time": "2020-02-10T09:57:29.974729Z"
    }
   },
   "outputs": [
    {
     "data": {
      "text/plain": [
       "65.39"
      ]
     },
     "execution_count": 98,
     "metadata": {},
     "output_type": "execute_result"
    }
   ],
   "source": [
    "sent['pos'].sum()"
   ]
  },
  {
   "cell_type": "code",
   "execution_count": 18,
   "metadata": {
    "ExecuteTime": {
     "end_time": "2020-05-18T08:38:56.709773Z",
     "start_time": "2020-05-18T08:38:56.699402Z"
    }
   },
   "outputs": [
    {
     "name": "stdout",
     "output_type": "stream",
     "text": [
      "0         Just went to type the word arse and it autocor...\n",
      "1         Manchester United 2-1 Tottenham - Mauricio Poc...\n",
      "2         #Chelsea have booked their place in the #FACup...\n",
      "3         @samsarmy @SpursOfficial Ive heard they are l...\n",
      "4         \"I've learnt my lesson... I'm never, ever, goi...\n",
      "                                ...                        \n",
      "337936    @Arsenal so the board a just looking for a 'YE...\n",
      "337937    Thank you @19SCazorla for your fantastic servi...\n",
      "337938    Quick one mates ..\\nWho would you prefer to be...\n",
      "337939    Daily Heritage Sports:\\n\\n- @aaronramsey agent...\n",
      "337940    Pep Guardiola's current assistant and former @...\n",
      "Name: tweet_text, Length: 337941, dtype: object\n"
     ]
    }
   ],
   "source": [
    "print(sent.tweet_text)"
   ]
  },
  {
   "cell_type": "code",
   "execution_count": null,
   "metadata": {},
   "outputs": [],
   "source": []
  }
 ],
 "metadata": {
  "kernelspec": {
   "display_name": "Python 3",
   "language": "python",
   "name": "python3"
  },
  "language_info": {
   "codemirror_mode": {
    "name": "ipython",
    "version": 3
   },
   "file_extension": ".py",
   "mimetype": "text/x-python",
   "name": "python",
   "nbconvert_exporter": "python",
   "pygments_lexer": "ipython3",
   "version": "3.7.3"
  },
  "toc": {
   "base_numbering": 1,
   "nav_menu": {},
   "number_sections": true,
   "sideBar": true,
   "skip_h1_title": false,
   "title_cell": "Table of Contents",
   "title_sidebar": "Contents",
   "toc_cell": false,
   "toc_position": {},
   "toc_section_display": true,
   "toc_window_display": false
  }
 },
 "nbformat": 4,
 "nbformat_minor": 2
}
