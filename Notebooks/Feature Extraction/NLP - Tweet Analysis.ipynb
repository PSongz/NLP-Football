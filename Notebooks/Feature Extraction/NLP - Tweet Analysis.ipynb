{
 "cells": [
  {
   "cell_type": "code",
   "execution_count": 1,
   "metadata": {
    "ExecuteTime": {
     "end_time": "2020-05-17T12:07:07.086858Z",
     "start_time": "2020-05-17T12:07:06.337445Z"
    }
   },
   "outputs": [],
   "source": [
    "import pandas as pd\n",
    "import numpy as np\n",
    "from tqdm.notebook import tqdm\n",
    "import sys\n",
    "import datetime as dt\n",
    "import re\n",
    "from datetime import datetime, timedelta\n"
   ]
  },
  {
   "cell_type": "code",
   "execution_count": 12,
   "metadata": {
    "ExecuteTime": {
     "end_time": "2020-06-05T10:51:25.765070Z",
     "start_time": "2020-06-05T10:51:25.758065Z"
    }
   },
   "outputs": [],
   "source": [
    "import pickle\n",
    "def save(obj, name, path ):\n",
    "    with open(path+ name + '.pkl', 'wb') as f:\n",
    "        pickle.dump(obj, f, pickle.HIGHEST_PROTOCOL)\n",
    "\n",
    "def load(name ,path):\n",
    "    with open(path + name + '.pkl', 'rb') as f:\n",
    "        return pickle.load(f)"
   ]
  },
  {
   "cell_type": "code",
   "execution_count": 15,
   "metadata": {
    "ExecuteTime": {
     "end_time": "2020-06-05T10:53:01.656531Z",
     "start_time": "2020-06-05T10:53:01.638915Z"
    }
   },
   "outputs": [],
   "source": [
    "save(teams_dict,'teams_dict','C:/Users/clement.laplace/Documents/Perso/EPL Pred/Data/Dictionnaries/')\n",
    "\n",
    "test=load('teams_dict','C:/Users/clement.laplace/Documents/Perso/EPL Pred/Data/Dictionnaries/')"
   ]
  },
  {
   "cell_type": "markdown",
   "metadata": {},
   "source": [
    "# Data"
   ]
  },
  {
   "cell_type": "markdown",
   "metadata": {},
   "source": [
    "## Dictionnaries"
   ]
  },
  {
   "cell_type": "code",
   "execution_count": 2,
   "metadata": {
    "ExecuteTime": {
     "end_time": "2020-06-05T10:46:37.043559Z",
     "start_time": "2020-06-05T10:46:37.034532Z"
    },
    "hide_input": false
   },
   "outputs": [],
   "source": [
    "teams_dict={'ARS':'arsenal',    \n",
    "       'BOU': 'bournemouth',\n",
    "       'BHA':'brighton & hove albion',\n",
    "       'BUR':'burnley',\n",
    "       'CHE': 'chelsea',\n",
    "       'CRY': 'crystal palace',\n",
    "       'EVE': 'everton',\n",
    "       'HUD': 'huddersfield town',\n",
    "       'LEI': 'leicester city',\n",
    "       'LIV': 'liverpool',\n",
    "       'MCI': 'manchester city',\n",
    "       'MUN': 'manchester united',\n",
    "       'NEW': 'newcastle united',\n",
    "       'Norwich': 'norwich',\n",
    "       'Sheffield': 'sheffield United',\n",
    "       'SOU': 'southampton',\n",
    "       'STK': 'stoke city',\n",
    "       'SWA':'swansea city',\n",
    "       'TOT': 'tottenham hotspur',\n",
    "       'Villa': 'aston villa',\n",
    "       'WAT': 'watford',\n",
    "       'WBA': 'west bromwich albion',\n",
    "       'WHU': 'west ham united',\n",
    "       'Wolverhampton': 'wolverhampton'\n",
    "      }\n"
   ]
  },
  {
   "cell_type": "code",
   "execution_count": 64,
   "metadata": {
    "ExecuteTime": {
     "end_time": "2020-05-17T12:39:15.878701Z",
     "start_time": "2020-05-17T12:39:15.851651Z"
    }
   },
   "outputs": [],
   "source": [
    "tweet_dict={'ARS':['@arsenal','@Arsenal', '#AFC','#afc','#Arsenal','#COYG','#coyg','#Gunners','#WeAreTheArsenal','#Gooners','#thegunners','#comeonarsenal'],\n",
    "       \n",
    "       'BOU': ['@afcbournemouth','#afcb', '#bournemouth','#thecherries'],\n",
    "       'BHA':['@OfficialBHAFC','#BrightonAndHoveAlbionFC','#BHAFC','#bhafc'],\n",
    "       'BUR':['@BurnleyOfficial','#twitterclarets','#BurnleyFC','#Clarets'],\n",
    "       'CHE': ['@ChelseaFC','#cfc','#CFC', '#chelsea','#ChelseaFC','#Chelsea'],\n",
    "       'CRY': ['@CPFC','#CPFC','#cpfc', '#crystalpalace','#CrystalPalace'],\n",
    "       'EVE': ['@Everton','#efc','#EFC','#coyb', '#everton','#Everton','#EvertonFC','#evertonfc','#COYB'],\n",
    "       'HUD': ['#htafc','@htafc','@HTAFC','@htafcdotcom','#HTAFC'],\n",
    "       'LEI': ['@LCFC','#lcfc','#LCFC', '#leicesterfc', '#leicestercity',\n",
    "                    '#leicestercityfc'],\n",
    "       'LIV': ['@LFC','#LFC','#Lfc','#lfc', '#YNWA','#youwillneverwalkalone','#liverpoolfc','#LiverpoolFC', '#livfc'],\n",
    "       'MCI': ['@ManCity','@Mancity','#ManCity','#Mancity','#MANCHESTERCITY','#ManchesterCity','#mancityfc','#MCFC','#mcfc', '#manchestercity', '#mancity','#TheSkyBlues','#manchestercityfc'],\n",
    "       'MUN': ['@ManUtd','#MUFC','#mufc', '#manchesterunited', '#manutd','#GGMU','#manunited','#ManUnited','#GGMU','#ManchesterUnited'],\n",
    "       'NEW': ['@NUFC','#nufc','#NUFC','#ToonArmy', '#newcastlefc', '#newcastleunited',\n",
    "                    '#newcastleunitedfc','#TheMagpies'],\n",
    "       'Norwich': ['@NorwichCityFC','#ncfc', '#norwichcity'],\n",
    "       'Sheffield': ['@SheffieldUnited','#sufc', '#twitterblades'],\n",
    "       'SOU': ['@SouthamptonFC','#saintsfc','#SaintsFC', '#southamptonfc'],\n",
    "       'STK': ['@stokecity','#SCFC','#scfc','#stokecity'],\n",
    "       'SWA':['@swansofficial','SwansOfficial','#swans','#Swans','#jackarmy'],\n",
    "       'TOT': ['@SpursOfficial','@spursofficial','@SpursOfficial.','#COYS','#coys','#THFC','#Tottenham','#TottenhamHotspur', '#tottenhamfc', '#spursfc',\n",
    "                    '#hotspurfc', '#tottenhamhotspurfc','#thfc','#THFC','#Coys'],\n",
    "       'Villa': ['@AVFCOfficial','#avfc', '#astonvilla', '#astonvillafc', '#villafc','#AVFC'],\n",
    "       'WAT': ['@WatfordFC','#WatfordFC','#TheHornets','#watfordfc'],\n",
    "       'WBA': ['@WBA','#WBA','#WBAFC','#wbafc'],\n",
    "       'WHU': ['@WestHamUtd','#COYI','#coyi','#WestHam','#whufc', '#westhamfc', '#westhamunited', '#westhamunitedfc',\n",
    "                  '#whu','#WHUFC','#whufc'],\n",
    "       'Wolverhampton': ['@Wolves','#WolverhamptonWanderers','#wwfc']\n",
    "      }\n"
   ]
  },
  {
   "cell_type": "markdown",
   "metadata": {
    "heading_collapsed": true
   },
   "source": [
    "## Fixtures"
   ]
  },
  {
   "cell_type": "code",
   "execution_count": 4,
   "metadata": {
    "ExecuteTime": {
     "end_time": "2020-05-17T12:07:07.244455Z",
     "start_time": "2020-05-17T12:07:07.125880Z"
    },
    "hidden": true
   },
   "outputs": [],
   "source": [
    "fixtures= pd.read_excel(r'C:\\Users\\clement.laplace\\Documents\\Perso\\EPL Pred\\Data\\fixtures 1718.xlsx')"
   ]
  },
  {
   "cell_type": "code",
   "execution_count": 5,
   "metadata": {
    "ExecuteTime": {
     "end_time": "2020-05-17T12:07:08.083160Z",
     "start_time": "2020-05-17T12:07:07.247455Z"
    },
    "hidden": true
   },
   "outputs": [],
   "source": [
    "Htri=[(list(teams_dict.keys())[list(teams_dict.values()).index(teams.lower())])for teams in fixtures['HOME TEAM']]  # Prints george\n",
    "Atri=[(list(teams_dict.keys())[list(teams_dict.values()).index(teams.lower())])for teams in fixtures['AWAY TEAM']]\n",
    "fixtures['HTRI']=Htri\n",
    "fixtures['ATRI']=Atri\n",
    "fixtures['GAME WEEK']=(fixtures.index/10+1).astype(int)\n",
    "for i in range(len(fixtures)):\n",
    "    fixtures['FULL_DATE']=datetime.combine(fixtures.DATE.iloc[i],fixtures.TIME.iloc[i])"
   ]
  },
  {
   "cell_type": "code",
   "execution_count": 6,
   "metadata": {
    "ExecuteTime": {
     "end_time": "2020-05-17T12:07:08.095589Z",
     "start_time": "2020-05-17T12:07:08.083160Z"
    },
    "hidden": true
   },
   "outputs": [],
   "source": [
    "fixtures_train=fixtures[fixtures['GAME WEEK']>=36]\n",
    "fixtures_train=fixtures_train.reset_index(drop=True)"
   ]
  },
  {
   "cell_type": "code",
   "execution_count": 7,
   "metadata": {
    "ExecuteTime": {
     "end_time": "2020-05-17T12:07:08.132144Z",
     "start_time": "2020-05-17T12:07:08.100601Z"
    },
    "hidden": true
   },
   "outputs": [
    {
     "data": {
      "text/html": [
       "<div>\n",
       "<style scoped>\n",
       "    .dataframe tbody tr th:only-of-type {\n",
       "        vertical-align: middle;\n",
       "    }\n",
       "\n",
       "    .dataframe tbody tr th {\n",
       "        vertical-align: top;\n",
       "    }\n",
       "\n",
       "    .dataframe thead th {\n",
       "        text-align: right;\n",
       "    }\n",
       "</style>\n",
       "<table border=\"1\" class=\"dataframe\">\n",
       "  <thead>\n",
       "    <tr style=\"text-align: right;\">\n",
       "      <th></th>\n",
       "      <th>DIVISION</th>\n",
       "      <th>DATE</th>\n",
       "      <th>TIME</th>\n",
       "      <th>HOME TEAM</th>\n",
       "      <th>AWAY TEAM</th>\n",
       "      <th>HTRI</th>\n",
       "      <th>ATRI</th>\n",
       "      <th>GAME WEEK</th>\n",
       "      <th>FULL_DATE</th>\n",
       "    </tr>\n",
       "  </thead>\n",
       "  <tbody>\n",
       "    <tr>\n",
       "      <th>0</th>\n",
       "      <td>EPL</td>\n",
       "      <td>2018-04-28</td>\n",
       "      <td>15:00:00</td>\n",
       "      <td>Burnley</td>\n",
       "      <td>Brighton &amp; Hove Albion</td>\n",
       "      <td>BUR</td>\n",
       "      <td>BHA</td>\n",
       "      <td>36</td>\n",
       "      <td>2018-05-13 15:00:00</td>\n",
       "    </tr>\n",
       "    <tr>\n",
       "      <th>1</th>\n",
       "      <td>EPL</td>\n",
       "      <td>2018-04-28</td>\n",
       "      <td>15:00:00</td>\n",
       "      <td>Crystal Palace</td>\n",
       "      <td>Leicester City</td>\n",
       "      <td>CRY</td>\n",
       "      <td>LEI</td>\n",
       "      <td>36</td>\n",
       "      <td>2018-05-13 15:00:00</td>\n",
       "    </tr>\n",
       "    <tr>\n",
       "      <th>2</th>\n",
       "      <td>EPL</td>\n",
       "      <td>2018-04-28</td>\n",
       "      <td>15:00:00</td>\n",
       "      <td>Huddersfield Town</td>\n",
       "      <td>Everton</td>\n",
       "      <td>HUD</td>\n",
       "      <td>EVE</td>\n",
       "      <td>36</td>\n",
       "      <td>2018-05-13 15:00:00</td>\n",
       "    </tr>\n",
       "    <tr>\n",
       "      <th>3</th>\n",
       "      <td>EPL</td>\n",
       "      <td>2018-04-28</td>\n",
       "      <td>15:00:00</td>\n",
       "      <td>Liverpool</td>\n",
       "      <td>Stoke City</td>\n",
       "      <td>LIV</td>\n",
       "      <td>STK</td>\n",
       "      <td>36</td>\n",
       "      <td>2018-05-13 15:00:00</td>\n",
       "    </tr>\n",
       "    <tr>\n",
       "      <th>4</th>\n",
       "      <td>EPL</td>\n",
       "      <td>2018-04-28</td>\n",
       "      <td>15:00:00</td>\n",
       "      <td>Manchester United</td>\n",
       "      <td>Arsenal</td>\n",
       "      <td>MUN</td>\n",
       "      <td>ARS</td>\n",
       "      <td>36</td>\n",
       "      <td>2018-05-13 15:00:00</td>\n",
       "    </tr>\n",
       "  </tbody>\n",
       "</table>\n",
       "</div>"
      ],
      "text/plain": [
       "  DIVISION       DATE      TIME          HOME TEAM               AWAY TEAM  \\\n",
       "0      EPL 2018-04-28  15:00:00            Burnley  Brighton & Hove Albion   \n",
       "1      EPL 2018-04-28  15:00:00     Crystal Palace          Leicester City   \n",
       "2      EPL 2018-04-28  15:00:00  Huddersfield Town                 Everton   \n",
       "3      EPL 2018-04-28  15:00:00          Liverpool              Stoke City   \n",
       "4      EPL 2018-04-28  15:00:00  Manchester United                 Arsenal   \n",
       "\n",
       "  HTRI ATRI  GAME WEEK           FULL_DATE  \n",
       "0  BUR  BHA         36 2018-05-13 15:00:00  \n",
       "1  CRY  LEI         36 2018-05-13 15:00:00  \n",
       "2  HUD  EVE         36 2018-05-13 15:00:00  \n",
       "3  LIV  STK         36 2018-05-13 15:00:00  \n",
       "4  MUN  ARS         36 2018-05-13 15:00:00  "
      ]
     },
     "execution_count": 7,
     "metadata": {},
     "output_type": "execute_result"
    }
   ],
   "source": [
    "fixtures_train.head()"
   ]
  },
  {
   "cell_type": "markdown",
   "metadata": {},
   "source": [
    "## Tweets"
   ]
  },
  {
   "cell_type": "code",
   "execution_count": 8,
   "metadata": {
    "ExecuteTime": {
     "end_time": "2020-05-17T12:07:43.190591Z",
     "start_time": "2020-05-17T12:07:08.135932Z"
    }
   },
   "outputs": [],
   "source": [
    "# Tweets & Sentiments from BetSentiment\n",
    "tweets = pd.read_csv(r'C:\\Users\\clement.laplace\\Documents\\Perso\\EPL Pred\\Data\\EPL-Team-sentiment\\betsentiment-EN-tweets-sentiment-teams-split\\Teams Tweet.csv', encoding='latin1')\n",
    "# Get tweets before end of the season 2017-2018\n",
    "tweets_18 = tweets[tweets['tweet_date_created']<'2018-06-01']\n",
    "tweets_18=tweets_18.sort_values(by='tweet_date_created')"
   ]
  },
  {
   "cell_type": "code",
   "execution_count": 66,
   "metadata": {
    "ExecuteTime": {
     "end_time": "2020-05-17T12:39:55.801547Z",
     "start_time": "2020-05-17T12:39:43.205516Z"
    }
   },
   "outputs": [],
   "source": [
    "#Get all hashtags/mentions & Attribute them to teams for classification\n",
    "tweets_18['Team Mentions']=[re.findall(r'[#@][^\\s#@,.?!;]+', i) for i in tweets_18.tweet_text]\n",
    "tweets_18['team']=[list(set(k for k,v in tweet_dict.items() for i in mentions if i in v)) for mentions in tweets_18['Team Mentions']]\n",
    "#Reformat Date to datetime value for processing when merging with Fixtures\n",
    "tweets_18['tweet_date_created']=pd.to_datetime(tweets_18['tweet_date_created'])\n",
    "tweets_18=tweets_18.reset_index(drop=True)"
   ]
  },
  {
   "cell_type": "code",
   "execution_count": 11,
   "metadata": {
    "ExecuteTime": {
     "end_time": "2020-05-17T12:13:46.411446Z",
     "start_time": "2020-05-17T12:07:54.768073Z"
    }
   },
   "outputs": [
    {
     "data": {
      "application/vnd.jupyter.widget-view+json": {
       "model_id": "df22495374a646a5b6820b99577272d8",
       "version_major": 2,
       "version_minor": 0
      },
      "text/plain": [
       "HBox(children=(FloatProgress(value=1.0, bar_style='info', max=1.0), HTML(value='')))"
      ]
     },
     "metadata": {},
     "output_type": "display_data"
    },
    {
     "name": "stdout",
     "output_type": "stream",
     "text": [
      "\n"
     ]
    },
    {
     "data": {
      "application/vnd.jupyter.widget-view+json": {
       "model_id": "4529ded480ef44a7bc137eaff214bcef",
       "version_major": 2,
       "version_minor": 0
      },
      "text/plain": [
       "HBox(children=(FloatProgress(value=1.0, bar_style='info', max=1.0), HTML(value='')))"
      ]
     },
     "metadata": {},
     "output_type": "display_data"
    },
    {
     "name": "stdout",
     "output_type": "stream",
     "text": [
      "\n"
     ]
    },
    {
     "data": {
      "application/vnd.jupyter.widget-view+json": {
       "model_id": "44982d9f5f1b4e2cab190c1888e28554",
       "version_major": 2,
       "version_minor": 0
      },
      "text/plain": [
       "HBox(children=(FloatProgress(value=1.0, bar_style='info', max=1.0), HTML(value='')))"
      ]
     },
     "metadata": {},
     "output_type": "display_data"
    },
    {
     "name": "stdout",
     "output_type": "stream",
     "text": [
      "\n"
     ]
    },
    {
     "data": {
      "application/vnd.jupyter.widget-view+json": {
       "model_id": "b36d9896568744ecbfd5a1c2923345e4",
       "version_major": 2,
       "version_minor": 0
      },
      "text/plain": [
       "HBox(children=(FloatProgress(value=1.0, bar_style='info', max=1.0), HTML(value='')))"
      ]
     },
     "metadata": {},
     "output_type": "display_data"
    },
    {
     "name": "stdout",
     "output_type": "stream",
     "text": [
      "\n"
     ]
    }
   ],
   "source": [
    "#Duplication of tweets if different teams hashtags in tweet\n",
    "df_tweets =pd.DataFrame([(row['tweet_date_created'], d) for _, row in tqdm(tweets_18.iterrows()) \n",
    "                           for d in row['team']],\n",
    "                          columns=['tweet_date_created', 'team'])\n",
    "df_text =pd.DataFrame([(row['tweet_text'], d) for _, row in tqdm(tweets_18.iterrows())\n",
    "                           for d in row['team']],\n",
    "                          columns=['tweet_text', 'team'])\n",
    "df_rating= pd.DataFrame([(row['sentiment_score'], d) for _, row in tqdm(tweets_18.iterrows()) \n",
    "                           for d in row['team']],\n",
    "                          columns=['sentiment_score', 'team'])\n",
    "df_sentiment=pd.DataFrame([(row['sentiment'], d) for _, row in tqdm(tweets_18.iterrows()) \n",
    "                           for d in row['team']],\n",
    "                          columns=['sentiment', 'team'])"
   ]
  },
  {
   "cell_type": "code",
   "execution_count": 12,
   "metadata": {
    "ExecuteTime": {
     "end_time": "2020-05-17T12:13:46.419374Z",
     "start_time": "2020-05-17T12:13:46.413087Z"
    }
   },
   "outputs": [],
   "source": [
    "# Computation of sentiment variables"
   ]
  },
  {
   "cell_type": "code",
   "execution_count": 13,
   "metadata": {
    "ExecuteTime": {
     "end_time": "2020-05-17T12:13:46.427406Z",
     "start_time": "2020-05-17T12:13:46.421376Z"
    },
    "code_folding": [
     0,
     5
    ]
   },
   "outputs": [],
   "source": [
    "def positivity (text):\n",
    "    try: \n",
    "        return float(re.search('\"Positive\":(.*?),\"', text).group(1))\n",
    "    except:\n",
    "        return 0        \n",
    "def mixity (text):\n",
    "    try: \n",
    "        return float(re.search('\"Mixed\":(.*?)}', text).group(1))\n",
    "    except:\n",
    "        return 0        "
   ]
  },
  {
   "cell_type": "code",
   "execution_count": 14,
   "metadata": {
    "ExecuteTime": {
     "end_time": "2020-05-17T12:13:46.466176Z",
     "start_time": "2020-05-17T12:13:46.429408Z"
    }
   },
   "outputs": [],
   "source": [
    "df_tweets['tweet']=df_text['tweet_text']\n",
    "df_tweets['rating']=df_rating['sentiment_score']\n",
    "df_tweets['overall_sentiment']= df_sentiment['sentiment']"
   ]
  },
  {
   "cell_type": "code",
   "execution_count": 15,
   "metadata": {
    "ExecuteTime": {
     "end_time": "2020-05-17T12:13:52.915016Z",
     "start_time": "2020-05-17T12:13:46.468175Z"
    }
   },
   "outputs": [],
   "source": [
    "neutral=[float(re.search('\"Neutral\":(.*),\"Neg', rating).group(1)) for rating in df_tweets.rating]\n",
    "negative=[float(re.search('\"Negative\":(.*?),\"', rating).group(1)) for rating in df_tweets.rating]\n",
    "positive=[ positivity(rating) for rating in df_tweets.rating]\n",
    "mixed=[mixity(rating) for rating in df_tweets.rating]\n",
    "df_tweets['positive']=positive\n",
    "df_tweets['negative']=negative\n",
    "df_tweets['neutral']=neutral\n",
    "df_tweets['mixed']=mixed\n",
    "df_tweets=pd.get_dummies(df_tweets, columns=['overall_sentiment'],prefix='',prefix_sep='')"
   ]
  },
  {
   "cell_type": "markdown",
   "metadata": {
    "heading_collapsed": true
   },
   "source": [
    "## FIFA Teams Ratings"
   ]
  },
  {
   "cell_type": "code",
   "execution_count": 16,
   "metadata": {
    "ExecuteTime": {
     "end_time": "2020-05-17T12:13:52.945396Z",
     "start_time": "2020-05-17T12:13:52.919096Z"
    },
    "hidden": true
   },
   "outputs": [],
   "source": [
    "# FIFA ratings\n",
    "fifa= pd.read_excel(r'C:\\Users\\clement.laplace\\Documents\\Perso\\EPL Pred\\Data\\FIFA team.xlsx')"
   ]
  },
  {
   "cell_type": "code",
   "execution_count": 17,
   "metadata": {
    "ExecuteTime": {
     "end_time": "2020-05-17T12:13:52.975691Z",
     "start_time": "2020-05-17T12:13:52.949401Z"
    },
    "hidden": true
   },
   "outputs": [
    {
     "data": {
      "text/html": [
       "<div>\n",
       "<style scoped>\n",
       "    .dataframe tbody tr th:only-of-type {\n",
       "        vertical-align: middle;\n",
       "    }\n",
       "\n",
       "    .dataframe tbody tr th {\n",
       "        vertical-align: top;\n",
       "    }\n",
       "\n",
       "    .dataframe thead th {\n",
       "        text-align: right;\n",
       "    }\n",
       "</style>\n",
       "<table border=\"1\" class=\"dataframe\">\n",
       "  <thead>\n",
       "    <tr style=\"text-align: right;\">\n",
       "      <th></th>\n",
       "      <th>Nom</th>\n",
       "      <th>Championnat</th>\n",
       "      <th>ATT</th>\n",
       "      <th>MIL</th>\n",
       "      <th>DÉF</th>\n",
       "      <th>GEN</th>\n",
       "    </tr>\n",
       "  </thead>\n",
       "  <tbody>\n",
       "    <tr>\n",
       "      <th>2</th>\n",
       "      <td>Arsenal</td>\n",
       "      <td>Barclays PL</td>\n",
       "      <td>86</td>\n",
       "      <td>82</td>\n",
       "      <td>80</td>\n",
       "      <td>83</td>\n",
       "    </tr>\n",
       "    <tr>\n",
       "      <th>15</th>\n",
       "      <td>Bournemouth</td>\n",
       "      <td>Barclays PL</td>\n",
       "      <td>76</td>\n",
       "      <td>74</td>\n",
       "      <td>75</td>\n",
       "      <td>75</td>\n",
       "    </tr>\n",
       "    <tr>\n",
       "      <th>18</th>\n",
       "      <td>Brighton</td>\n",
       "      <td>Barclays PL</td>\n",
       "      <td>74</td>\n",
       "      <td>74</td>\n",
       "      <td>73</td>\n",
       "      <td>74</td>\n",
       "    </tr>\n",
       "    <tr>\n",
       "      <th>16</th>\n",
       "      <td>Burnley</td>\n",
       "      <td>Barclays PL</td>\n",
       "      <td>74</td>\n",
       "      <td>75</td>\n",
       "      <td>75</td>\n",
       "      <td>75</td>\n",
       "    </tr>\n",
       "    <tr>\n",
       "      <th>0</th>\n",
       "      <td>Chelsea</td>\n",
       "      <td>Barclays PL</td>\n",
       "      <td>85</td>\n",
       "      <td>85</td>\n",
       "      <td>82</td>\n",
       "      <td>84</td>\n",
       "    </tr>\n",
       "    <tr>\n",
       "      <th>12</th>\n",
       "      <td>Crystal Palace</td>\n",
       "      <td>Barclays PL</td>\n",
       "      <td>81</td>\n",
       "      <td>76</td>\n",
       "      <td>75</td>\n",
       "      <td>76</td>\n",
       "    </tr>\n",
       "    <tr>\n",
       "      <th>6</th>\n",
       "      <td>Everton</td>\n",
       "      <td>Barclays PL</td>\n",
       "      <td>79</td>\n",
       "      <td>82</td>\n",
       "      <td>79</td>\n",
       "      <td>80</td>\n",
       "    </tr>\n",
       "    <tr>\n",
       "      <th>19</th>\n",
       "      <td>Huddersfield</td>\n",
       "      <td>Barclays PL</td>\n",
       "      <td>73</td>\n",
       "      <td>73</td>\n",
       "      <td>72</td>\n",
       "      <td>73</td>\n",
       "    </tr>\n",
       "    <tr>\n",
       "      <th>8</th>\n",
       "      <td>Leicester City</td>\n",
       "      <td>Barclays PL</td>\n",
       "      <td>79</td>\n",
       "      <td>79</td>\n",
       "      <td>76</td>\n",
       "      <td>78</td>\n",
       "    </tr>\n",
       "    <tr>\n",
       "      <th>5</th>\n",
       "      <td>Liverpool</td>\n",
       "      <td>Barclays PL</td>\n",
       "      <td>83</td>\n",
       "      <td>82</td>\n",
       "      <td>80</td>\n",
       "      <td>82</td>\n",
       "    </tr>\n",
       "    <tr>\n",
       "      <th>3</th>\n",
       "      <td>Manchester City</td>\n",
       "      <td>Barclays PL</td>\n",
       "      <td>84</td>\n",
       "      <td>85</td>\n",
       "      <td>81</td>\n",
       "      <td>83</td>\n",
       "    </tr>\n",
       "    <tr>\n",
       "      <th>1</th>\n",
       "      <td>Manchester Utd</td>\n",
       "      <td>Barclays PL</td>\n",
       "      <td>86</td>\n",
       "      <td>83</td>\n",
       "      <td>81</td>\n",
       "      <td>83</td>\n",
       "    </tr>\n",
       "    <tr>\n",
       "      <th>17</th>\n",
       "      <td>Newcastle Utd</td>\n",
       "      <td>Barclays PL</td>\n",
       "      <td>74</td>\n",
       "      <td>75</td>\n",
       "      <td>75</td>\n",
       "      <td>75</td>\n",
       "    </tr>\n",
       "    <tr>\n",
       "      <th>9</th>\n",
       "      <td>Southampton</td>\n",
       "      <td>Barclays PL</td>\n",
       "      <td>78</td>\n",
       "      <td>78</td>\n",
       "      <td>77</td>\n",
       "      <td>78</td>\n",
       "    </tr>\n",
       "    <tr>\n",
       "      <th>10</th>\n",
       "      <td>Stoke City</td>\n",
       "      <td>Barclays PL</td>\n",
       "      <td>78</td>\n",
       "      <td>77</td>\n",
       "      <td>77</td>\n",
       "      <td>77</td>\n",
       "    </tr>\n",
       "    <tr>\n",
       "      <th>14</th>\n",
       "      <td>Swansea City</td>\n",
       "      <td>Barclays PL</td>\n",
       "      <td>75</td>\n",
       "      <td>77</td>\n",
       "      <td>75</td>\n",
       "      <td>76</td>\n",
       "    </tr>\n",
       "    <tr>\n",
       "      <th>4</th>\n",
       "      <td>Tottenham Hotspur</td>\n",
       "      <td>Barclays PL</td>\n",
       "      <td>86</td>\n",
       "      <td>82</td>\n",
       "      <td>81</td>\n",
       "      <td>82</td>\n",
       "    </tr>\n",
       "    <tr>\n",
       "      <th>11</th>\n",
       "      <td>Watford</td>\n",
       "      <td>Barclays PL</td>\n",
       "      <td>77</td>\n",
       "      <td>76</td>\n",
       "      <td>76</td>\n",
       "      <td>77</td>\n",
       "    </tr>\n",
       "    <tr>\n",
       "      <th>13</th>\n",
       "      <td>West Bromwich</td>\n",
       "      <td>Barclays PL</td>\n",
       "      <td>80</td>\n",
       "      <td>75</td>\n",
       "      <td>76</td>\n",
       "      <td>76</td>\n",
       "    </tr>\n",
       "    <tr>\n",
       "      <th>7</th>\n",
       "      <td>West Ham Utd</td>\n",
       "      <td>Barclays PL</td>\n",
       "      <td>80</td>\n",
       "      <td>79</td>\n",
       "      <td>78</td>\n",
       "      <td>79</td>\n",
       "    </tr>\n",
       "  </tbody>\n",
       "</table>\n",
       "</div>"
      ],
      "text/plain": [
       "                  Nom  Championnat  ATT  MIL  DÉF  GEN\n",
       "2             Arsenal  Barclays PL   86   82   80   83\n",
       "15        Bournemouth  Barclays PL   76   74   75   75\n",
       "18           Brighton  Barclays PL   74   74   73   74\n",
       "16            Burnley  Barclays PL   74   75   75   75\n",
       "0             Chelsea  Barclays PL   85   85   82   84\n",
       "12     Crystal Palace  Barclays PL   81   76   75   76\n",
       "6             Everton  Barclays PL   79   82   79   80\n",
       "19       Huddersfield  Barclays PL   73   73   72   73\n",
       "8      Leicester City  Barclays PL   79   79   76   78\n",
       "5           Liverpool  Barclays PL   83   82   80   82\n",
       "3     Manchester City  Barclays PL   84   85   81   83\n",
       "1      Manchester Utd  Barclays PL   86   83   81   83\n",
       "17      Newcastle Utd  Barclays PL   74   75   75   75\n",
       "9         Southampton  Barclays PL   78   78   77   78\n",
       "10         Stoke City  Barclays PL   78   77   77   77\n",
       "14       Swansea City  Barclays PL   75   77   75   76\n",
       "4   Tottenham Hotspur  Barclays PL   86   82   81   82\n",
       "11            Watford  Barclays PL   77   76   76   77\n",
       "13      West Bromwich  Barclays PL   80   75   76   76\n",
       "7        West Ham Utd  Barclays PL   80   79   78   79"
      ]
     },
     "execution_count": 17,
     "metadata": {},
     "output_type": "execute_result"
    }
   ],
   "source": [
    "fifa.sort_values(by='Nom')"
   ]
  },
  {
   "cell_type": "markdown",
   "metadata": {
    "heading_collapsed": true
   },
   "source": [
    "## EPL Season Data"
   ]
  },
  {
   "cell_type": "code",
   "execution_count": 18,
   "metadata": {
    "ExecuteTime": {
     "end_time": "2020-05-17T12:14:31.664936Z",
     "start_time": "2020-05-17T12:13:52.977870Z"
    },
    "hidden": true
   },
   "outputs": [],
   "source": [
    "# Fixtures data season\n",
    "seasons_data=pd.read_csv(r'C:\\Users\\clement.laplace\\Documents\\Perso\\EPL Pred\\Data\\EPLDataset.csv')\n",
    "seasons_data['Final_result']=0\n",
    "for i in range(len(seasons_data)):\n",
    "    if seasons_data.loc[i,['home_goals']][0]>seasons_data.loc[i,['away_goals']][0]:\n",
    "        seasons_data.loc[i,['Final_result']]=1\n",
    "    if seasons_data.loc[i,['home_goals']][0]<seasons_data.loc[i,['away_goals']][0]:\n",
    "        seasons_data.loc[i,['Final_result']]=-1\n",
    "season_18=seasons_data[seasons_data['season']=='2017/2018']"
   ]
  },
  {
   "cell_type": "code",
   "execution_count": 19,
   "metadata": {
    "ExecuteTime": {
     "end_time": "2020-05-17T12:14:31.699142Z",
     "start_time": "2020-05-17T12:14:31.667959Z"
    },
    "hidden": true
   },
   "outputs": [
    {
     "name": "stderr",
     "output_type": "stream",
     "text": [
      "C:\\Users\\clement.laplace\\AppData\\Local\\Continuum\\anaconda3\\lib\\site-packages\\ipykernel_launcher.py:1: SettingWithCopyWarning: \n",
      "A value is trying to be set on a copy of a slice from a DataFrame.\n",
      "Try using .loc[row_indexer,col_indexer] = value instead\n",
      "\n",
      "See the caveats in the documentation: https://pandas.pydata.org/pandas-docs/stable/user_guide/indexing.html#returning-a-view-versus-a-copy\n",
      "  \"\"\"Entry point for launching an IPython kernel.\n",
      "C:\\Users\\clement.laplace\\AppData\\Local\\Continuum\\anaconda3\\lib\\site-packages\\ipykernel_launcher.py:2: SettingWithCopyWarning: \n",
      "A value is trying to be set on a copy of a slice from a DataFrame.\n",
      "Try using .loc[row_indexer,col_indexer] = value instead\n",
      "\n",
      "See the caveats in the documentation: https://pandas.pydata.org/pandas-docs/stable/user_guide/indexing.html#returning-a-view-versus-a-copy\n",
      "  \n"
     ]
    }
   ],
   "source": [
    "season_18['game_week']=season_18.matchweek.str.extract('(\\d+)')\n",
    "season_18['game_week']=pd.to_numeric(season_18['game_week'],errors='ignore')\n",
    "season_18_hist=season_18[season_18['game_week']<36]\n",
    "season_18_2= season_18[season_18['game_week']>=36]\n",
    "season_18_2=season_18_2.reset_index(drop=True)"
   ]
  },
  {
   "cell_type": "code",
   "execution_count": 20,
   "metadata": {
    "ExecuteTime": {
     "end_time": "2020-05-17T12:14:31.723746Z",
     "start_time": "2020-05-17T12:14:31.702692Z"
    },
    "hidden": true
   },
   "outputs": [],
   "source": [
    "season_18_home=season_18_hist.groupby(by='home_team').mean().reset_index()\n",
    "season_18_away=season_18_hist.groupby(by='away_team').mean().reset_index()"
   ]
  },
  {
   "cell_type": "markdown",
   "metadata": {},
   "source": [
    "## FINAL DATASET"
   ]
  },
  {
   "cell_type": "code",
   "execution_count": 21,
   "metadata": {
    "ExecuteTime": {
     "end_time": "2020-05-17T12:14:31.736516Z",
     "start_time": "2020-05-17T12:14:31.728724Z"
    }
   },
   "outputs": [],
   "source": [
    "columns=['DIVISION', 'DATE', 'TIME', 'HOME TEAM', 'AWAY TEAM', 'HTRI', 'ATRI',\n",
    "       'GAME WEEK', 'FULL_DATE', 'POSITIVE_home', 'NEGATIVE_home',\n",
    "       'NEUTRAL_home', 'MIXED_home', 'positive_sum_home', 'negative_sum_home',\n",
    "       'neutral_sum_home', 'mixed_sum_home', 'positive_mean_home',\n",
    "       'negative_mean_home', 'neutral_mean_home', 'mixed_mean_home',\n",
    "       'TOTAL_home', 'POSITIVE_away', 'NEGATIVE_away', 'NEUTRAL_away',\n",
    "       'MIXED_away', 'positive_sum_away', 'negative_sum_away',\n",
    "       'neutral_sum_away', 'mixed_sum_away', 'positive_mean_away',\n",
    "       'negative_mean_away', 'neutral_mean_away', 'mixed_mean_away',\n",
    "       'TOTAL_away']\n"
   ]
  },
  {
   "cell_type": "code",
   "execution_count": 22,
   "metadata": {
    "ExecuteTime": {
     "end_time": "2020-05-17T12:14:31.771443Z",
     "start_time": "2020-05-17T12:14:31.743515Z"
    },
    "code_folding": [
     0,
     16
    ]
   },
   "outputs": [],
   "source": [
    "def sentiment_dataset(tweets, team, date):\n",
    "    mask = (tweets['team']==team)&(tweets['tweet_date_created']>date-timedelta(3))&(tweets['tweet_date_created']<=date)\n",
    "    sentiment_sum = tweets[mask].groupby('team').agg({'positive':'sum', 'negative':'sum','neutral':'sum','mixed':'sum'}) \\\n",
    "           .rename(columns={'positive':'positive_sum','negative':'negative_sum','neutral':'neutral_sum','mixed':'mixed_sum'}) \\\n",
    "           .reset_index()\n",
    "    sentiment_mean = tweets[mask].groupby('team').agg({'positive':'mean', 'negative':'mean','neutral':'mean','mixed':'mean'}) \\\n",
    "           .rename(columns={'positive':'positive_mean','negative':'negative_mean','neutral':'neutral_mean','mixed':'mixed_mean'}) \\\n",
    "           .reset_index()\n",
    "    sentiment_count = tweets[mask].groupby('team').agg({'POSITIVE':'sum', 'NEGATIVE':'sum','NEUTRAL':'sum','MIXED':'sum'}) \\\n",
    "           .reset_index()\n",
    "    sentiment= sentiment_count.merge(sentiment_sum, on='team',how='left')\n",
    "    sentiment= sentiment.merge(sentiment_mean, on='team',how='left')\n",
    "    sentiment['TOTAL']= sentiment['POSITIVE']+sentiment['NEGATIVE']+sentiment['NEUTRAL']+sentiment['MIXED']\n",
    "    sentiment=sentiment.drop(columns=['team'])\n",
    "    \n",
    "    return sentiment.loc[0].values.tolist()\n",
    "def nlp_dataset_creation_GW (new_df_columns,tweets,fixtures):\n",
    "    df_final=pd.DataFrame(columns=columns)\n",
    "    for i in range(len(fixtures_train)):\n",
    "        df_final.loc[i,['DIVISION', 'DATE', 'TIME', 'HOME TEAM', 'AWAY TEAM', 'HTRI', 'ATRI',\n",
    "                        'GAME WEEK', 'FULL_DATE']]=fixtures_train.iloc[i]\n",
    "        df_final.loc[i,['POSITIVE_home', 'NEGATIVE_home',\n",
    "                        'NEUTRAL_home', 'MIXED_home', 'positive_sum_home', 'negative_sum_home',\n",
    "                        'neutral_sum_home', 'mixed_sum_home', 'positive_mean_home',\n",
    "                        'negative_mean_home', 'neutral_mean_home', 'mixed_mean_home',\n",
    "                        'TOTAL_home']]=sentiment_dataset(df_tweets,fixtures_train.loc[i,['HTRI']][0],\n",
    "                                                         fixtures_train.loc[i,['FULL_DATE']][0])\n",
    "        df_final.loc[i,['POSITIVE_away', 'NEGATIVE_away', 'NEUTRAL_away',\n",
    "                        'MIXED_away', 'positive_sum_away', 'negative_sum_away',\n",
    "                        'neutral_sum_away', 'mixed_sum_away', 'positive_mean_away',\n",
    "                        'negative_mean_away', 'neutral_mean_away', 'mixed_mean_away',\n",
    "                        'TOTAL_away']]=sentiment_dataset(df_tweets,fixtures_train.loc[i,['ATRI']][0],\n",
    "                                                         fixtures_train.loc[i,['FULL_DATE']][0])\n",
    "    return df_final"
   ]
  },
  {
   "cell_type": "code",
   "execution_count": 23,
   "metadata": {
    "ExecuteTime": {
     "end_time": "2020-05-17T12:14:37.437694Z",
     "start_time": "2020-05-17T12:14:31.775442Z"
    }
   },
   "outputs": [],
   "source": [
    "df_final=nlp_dataset_creation_GW(columns,df_tweets,fixtures_train)"
   ]
  },
  {
   "cell_type": "code",
   "execution_count": 24,
   "metadata": {
    "ExecuteTime": {
     "end_time": "2020-05-17T12:14:37.467270Z",
     "start_time": "2020-05-17T12:14:37.441064Z"
    }
   },
   "outputs": [],
   "source": [
    "df_final=df_final.merge(season_18_2[['home_team','game_week','Final_result']],left_on=['GAME WEEK','HTRI'], right_on=['game_week','home_team'], how='left').drop(columns=['game_week','home_team'])"
   ]
  },
  {
   "cell_type": "code",
   "execution_count": 25,
   "metadata": {
    "ExecuteTime": {
     "end_time": "2020-05-17T12:14:37.544616Z",
     "start_time": "2020-05-17T12:14:37.471313Z"
    }
   },
   "outputs": [
    {
     "data": {
      "text/html": [
       "<div>\n",
       "<style scoped>\n",
       "    .dataframe tbody tr th:only-of-type {\n",
       "        vertical-align: middle;\n",
       "    }\n",
       "\n",
       "    .dataframe tbody tr th {\n",
       "        vertical-align: top;\n",
       "    }\n",
       "\n",
       "    .dataframe thead th {\n",
       "        text-align: right;\n",
       "    }\n",
       "</style>\n",
       "<table border=\"1\" class=\"dataframe\">\n",
       "  <thead>\n",
       "    <tr style=\"text-align: right;\">\n",
       "      <th></th>\n",
       "      <th>DIVISION</th>\n",
       "      <th>DATE</th>\n",
       "      <th>TIME</th>\n",
       "      <th>HOME TEAM</th>\n",
       "      <th>AWAY TEAM</th>\n",
       "      <th>HTRI</th>\n",
       "      <th>ATRI</th>\n",
       "      <th>GAME WEEK</th>\n",
       "      <th>FULL_DATE</th>\n",
       "      <th>POSITIVE_home</th>\n",
       "      <th>...</th>\n",
       "      <th>positive_sum_away</th>\n",
       "      <th>negative_sum_away</th>\n",
       "      <th>neutral_sum_away</th>\n",
       "      <th>mixed_sum_away</th>\n",
       "      <th>positive_mean_away</th>\n",
       "      <th>negative_mean_away</th>\n",
       "      <th>neutral_mean_away</th>\n",
       "      <th>mixed_mean_away</th>\n",
       "      <th>TOTAL_away</th>\n",
       "      <th>Final_result</th>\n",
       "    </tr>\n",
       "  </thead>\n",
       "  <tbody>\n",
       "    <tr>\n",
       "      <th>0</th>\n",
       "      <td>EPL</td>\n",
       "      <td>2018-04-28 00:00:00</td>\n",
       "      <td>15:00:00</td>\n",
       "      <td>Burnley</td>\n",
       "      <td>Brighton &amp; Hove Albion</td>\n",
       "      <td>BUR</td>\n",
       "      <td>BHA</td>\n",
       "      <td>36</td>\n",
       "      <td>2018-05-13 15:00:00</td>\n",
       "      <td>97</td>\n",
       "      <td>...</td>\n",
       "      <td>115.45</td>\n",
       "      <td>28.64</td>\n",
       "      <td>200.303</td>\n",
       "      <td>9.60774</td>\n",
       "      <td>0.326129</td>\n",
       "      <td>0.080904</td>\n",
       "      <td>0.565826</td>\n",
       "      <td>0.0271405</td>\n",
       "      <td>98</td>\n",
       "      <td>0</td>\n",
       "    </tr>\n",
       "    <tr>\n",
       "      <th>1</th>\n",
       "      <td>EPL</td>\n",
       "      <td>2018-04-28 00:00:00</td>\n",
       "      <td>15:00:00</td>\n",
       "      <td>Crystal Palace</td>\n",
       "      <td>Leicester City</td>\n",
       "      <td>CRY</td>\n",
       "      <td>LEI</td>\n",
       "      <td>36</td>\n",
       "      <td>2018-05-13 15:00:00</td>\n",
       "      <td>213</td>\n",
       "      <td>...</td>\n",
       "      <td>84.9024</td>\n",
       "      <td>44.3193</td>\n",
       "      <td>185.186</td>\n",
       "      <td>11.5924</td>\n",
       "      <td>0.260437</td>\n",
       "      <td>0.135949</td>\n",
       "      <td>0.568055</td>\n",
       "      <td>0.0355596</td>\n",
       "      <td>70</td>\n",
       "      <td>1</td>\n",
       "    </tr>\n",
       "    <tr>\n",
       "      <th>2</th>\n",
       "      <td>EPL</td>\n",
       "      <td>2018-04-28 00:00:00</td>\n",
       "      <td>15:00:00</td>\n",
       "      <td>Huddersfield Town</td>\n",
       "      <td>Everton</td>\n",
       "      <td>HUD</td>\n",
       "      <td>EVE</td>\n",
       "      <td>36</td>\n",
       "      <td>2018-05-13 15:00:00</td>\n",
       "      <td>370</td>\n",
       "      <td>...</td>\n",
       "      <td>354.544</td>\n",
       "      <td>239.76</td>\n",
       "      <td>913.957</td>\n",
       "      <td>63.7382</td>\n",
       "      <td>0.225537</td>\n",
       "      <td>0.152519</td>\n",
       "      <td>0.581398</td>\n",
       "      <td>0.0405459</td>\n",
       "      <td>1572</td>\n",
       "      <td>-1</td>\n",
       "    </tr>\n",
       "    <tr>\n",
       "      <th>3</th>\n",
       "      <td>EPL</td>\n",
       "      <td>2018-04-28 00:00:00</td>\n",
       "      <td>15:00:00</td>\n",
       "      <td>Liverpool</td>\n",
       "      <td>Stoke City</td>\n",
       "      <td>LIV</td>\n",
       "      <td>STK</td>\n",
       "      <td>36</td>\n",
       "      <td>2018-05-13 15:00:00</td>\n",
       "      <td>1197</td>\n",
       "      <td>...</td>\n",
       "      <td>93.9517</td>\n",
       "      <td>68.2826</td>\n",
       "      <td>189.795</td>\n",
       "      <td>19.9705</td>\n",
       "      <td>0.252558</td>\n",
       "      <td>0.183555</td>\n",
       "      <td>0.510202</td>\n",
       "      <td>0.053684</td>\n",
       "      <td>116</td>\n",
       "      <td>0</td>\n",
       "    </tr>\n",
       "    <tr>\n",
       "      <th>4</th>\n",
       "      <td>EPL</td>\n",
       "      <td>2018-04-28 00:00:00</td>\n",
       "      <td>15:00:00</td>\n",
       "      <td>Manchester United</td>\n",
       "      <td>Arsenal</td>\n",
       "      <td>MUN</td>\n",
       "      <td>ARS</td>\n",
       "      <td>36</td>\n",
       "      <td>2018-05-13 15:00:00</td>\n",
       "      <td>1595</td>\n",
       "      <td>...</td>\n",
       "      <td>869.286</td>\n",
       "      <td>416.066</td>\n",
       "      <td>1631.9</td>\n",
       "      <td>124.746</td>\n",
       "      <td>0.285761</td>\n",
       "      <td>0.136774</td>\n",
       "      <td>0.536457</td>\n",
       "      <td>0.041008</td>\n",
       "      <td>3042</td>\n",
       "      <td>1</td>\n",
       "    </tr>\n",
       "  </tbody>\n",
       "</table>\n",
       "<p>5 rows × 36 columns</p>\n",
       "</div>"
      ],
      "text/plain": [
       "  DIVISION                 DATE      TIME          HOME TEAM  \\\n",
       "0      EPL  2018-04-28 00:00:00  15:00:00            Burnley   \n",
       "1      EPL  2018-04-28 00:00:00  15:00:00     Crystal Palace   \n",
       "2      EPL  2018-04-28 00:00:00  15:00:00  Huddersfield Town   \n",
       "3      EPL  2018-04-28 00:00:00  15:00:00          Liverpool   \n",
       "4      EPL  2018-04-28 00:00:00  15:00:00  Manchester United   \n",
       "\n",
       "                AWAY TEAM HTRI ATRI GAME WEEK            FULL_DATE  \\\n",
       "0  Brighton & Hove Albion  BUR  BHA        36  2018-05-13 15:00:00   \n",
       "1          Leicester City  CRY  LEI        36  2018-05-13 15:00:00   \n",
       "2                 Everton  HUD  EVE        36  2018-05-13 15:00:00   \n",
       "3              Stoke City  LIV  STK        36  2018-05-13 15:00:00   \n",
       "4                 Arsenal  MUN  ARS        36  2018-05-13 15:00:00   \n",
       "\n",
       "  POSITIVE_home  ... positive_sum_away negative_sum_away neutral_sum_away  \\\n",
       "0            97  ...            115.45             28.64          200.303   \n",
       "1           213  ...           84.9024           44.3193          185.186   \n",
       "2           370  ...           354.544            239.76          913.957   \n",
       "3          1197  ...           93.9517           68.2826          189.795   \n",
       "4          1595  ...           869.286           416.066           1631.9   \n",
       "\n",
       "  mixed_sum_away positive_mean_away negative_mean_away neutral_mean_away  \\\n",
       "0        9.60774           0.326129           0.080904          0.565826   \n",
       "1        11.5924           0.260437           0.135949          0.568055   \n",
       "2        63.7382           0.225537           0.152519          0.581398   \n",
       "3        19.9705           0.252558           0.183555          0.510202   \n",
       "4        124.746           0.285761           0.136774          0.536457   \n",
       "\n",
       "  mixed_mean_away TOTAL_away Final_result  \n",
       "0       0.0271405         98            0  \n",
       "1       0.0355596         70            1  \n",
       "2       0.0405459       1572           -1  \n",
       "3        0.053684        116            0  \n",
       "4        0.041008       3042            1  \n",
       "\n",
       "[5 rows x 36 columns]"
      ]
     },
     "execution_count": 25,
     "metadata": {},
     "output_type": "execute_result"
    }
   ],
   "source": [
    "df_final.head()"
   ]
  },
  {
   "cell_type": "code",
   "execution_count": 26,
   "metadata": {
    "ExecuteTime": {
     "end_time": "2020-05-17T12:14:37.567183Z",
     "start_time": "2020-05-17T12:14:37.548391Z"
    }
   },
   "outputs": [],
   "source": [
    "df_final.to_csv('df_final.csv')"
   ]
  },
  {
   "cell_type": "markdown",
   "metadata": {},
   "source": [
    "# DATA EXPLORATION"
   ]
  },
  {
   "cell_type": "code",
   "execution_count": 27,
   "metadata": {
    "ExecuteTime": {
     "end_time": "2020-05-17T12:14:37.633792Z",
     "start_time": "2020-05-17T12:14:37.571114Z"
    }
   },
   "outputs": [],
   "source": [
    "comparaison=pd.read_excel('df_final.xlsx',sheet_name='Comparaison')"
   ]
  },
  {
   "cell_type": "code",
   "execution_count": 28,
   "metadata": {
    "ExecuteTime": {
     "end_time": "2020-05-17T12:14:39.773943Z",
     "start_time": "2020-05-17T12:14:37.636368Z"
    }
   },
   "outputs": [
    {
     "name": "stderr",
     "output_type": "stream",
     "text": [
      "C:\\Users\\clement.laplace\\AppData\\Local\\Continuum\\anaconda3\\lib\\site-packages\\statsmodels\\tools\\_testing.py:19: FutureWarning: pandas.util.testing is deprecated. Use the functions in the public API at pandas.testing instead.\n",
      "  import pandas.util.testing as tm\n"
     ]
    }
   ],
   "source": [
    "import seaborn as sns\n",
    "corr = comparaison.corr()\n",
    "ax = sns.heatmap(\n",
    "    corr, \n",
    "    vmin=-1, vmax=1, center=0,\n",
    "    cmap=sns.diverging_palette(20, 220, n=200),\n",
    "    square=True)\n",
    "ax.set_xticklabels(\n",
    "    ax.get_xticklabels(),\n",
    "    rotation=45,\n",
    "    horizontalalignment='right'\n",
    ");"
   ]
  },
  {
   "cell_type": "code",
   "execution_count": 29,
   "metadata": {
    "ExecuteTime": {
     "end_time": "2020-05-17T12:14:39.811995Z",
     "start_time": "2020-05-17T12:14:39.776014Z"
    }
   },
   "outputs": [
    {
     "data": {
      "text/html": [
       "<div>\n",
       "<style scoped>\n",
       "    .dataframe tbody tr th:only-of-type {\n",
       "        vertical-align: middle;\n",
       "    }\n",
       "\n",
       "    .dataframe tbody tr th {\n",
       "        vertical-align: top;\n",
       "    }\n",
       "\n",
       "    .dataframe thead th {\n",
       "        text-align: right;\n",
       "    }\n",
       "</style>\n",
       "<table border=\"1\" class=\"dataframe\">\n",
       "  <thead>\n",
       "    <tr style=\"text-align: right;\">\n",
       "      <th></th>\n",
       "      <th>POSITIVE</th>\n",
       "      <th>NEGATIVE</th>\n",
       "      <th>NEUTRAL</th>\n",
       "      <th>MIXED</th>\n",
       "      <th>positive_sum</th>\n",
       "      <th>negative_sum</th>\n",
       "      <th>neutral_sum</th>\n",
       "      <th>mixed_sum</th>\n",
       "      <th>positive_mean</th>\n",
       "      <th>negative_mean</th>\n",
       "      <th>neutral_mean</th>\n",
       "      <th>mixed_mean</th>\n",
       "      <th>TOTAL</th>\n",
       "      <th>Final_result</th>\n",
       "    </tr>\n",
       "  </thead>\n",
       "  <tbody>\n",
       "    <tr>\n",
       "      <th>POSITIVE</th>\n",
       "      <td>1.000000</td>\n",
       "      <td>0.708371</td>\n",
       "      <td>0.800018</td>\n",
       "      <td>0.775212</td>\n",
       "      <td>1.000000</td>\n",
       "      <td>0.665184</td>\n",
       "      <td>0.864253</td>\n",
       "      <td>0.796391</td>\n",
       "      <td>-0.221719</td>\n",
       "      <td>0.260680</td>\n",
       "      <td>-0.049774</td>\n",
       "      <td>0.185520</td>\n",
       "      <td>0.796391</td>\n",
       "      <td>0.368204</td>\n",
       "    </tr>\n",
       "    <tr>\n",
       "      <th>NEGATIVE</th>\n",
       "      <td>0.708371</td>\n",
       "      <td>1.000000</td>\n",
       "      <td>0.847066</td>\n",
       "      <td>0.791360</td>\n",
       "      <td>0.708371</td>\n",
       "      <td>0.983690</td>\n",
       "      <td>0.845919</td>\n",
       "      <td>0.918262</td>\n",
       "      <td>-0.529559</td>\n",
       "      <td>0.573819</td>\n",
       "      <td>0.116916</td>\n",
       "      <td>0.502049</td>\n",
       "      <td>0.779132</td>\n",
       "      <td>0.270552</td>\n",
       "    </tr>\n",
       "    <tr>\n",
       "      <th>NEUTRAL</th>\n",
       "      <td>0.800018</td>\n",
       "      <td>0.847066</td>\n",
       "      <td>1.000000</td>\n",
       "      <td>0.919407</td>\n",
       "      <td>0.800018</td>\n",
       "      <td>0.866071</td>\n",
       "      <td>0.934853</td>\n",
       "      <td>0.872872</td>\n",
       "      <td>-0.413493</td>\n",
       "      <td>0.464286</td>\n",
       "      <td>0.143823</td>\n",
       "      <td>0.395515</td>\n",
       "      <td>0.872872</td>\n",
       "      <td>0.455346</td>\n",
       "    </tr>\n",
       "    <tr>\n",
       "      <th>MIXED</th>\n",
       "      <td>0.775212</td>\n",
       "      <td>0.791360</td>\n",
       "      <td>0.919407</td>\n",
       "      <td>1.000000</td>\n",
       "      <td>0.775212</td>\n",
       "      <td>0.781496</td>\n",
       "      <td>0.914056</td>\n",
       "      <td>0.842650</td>\n",
       "      <td>-0.335539</td>\n",
       "      <td>0.505674</td>\n",
       "      <td>0.057852</td>\n",
       "      <td>0.428102</td>\n",
       "      <td>0.983092</td>\n",
       "      <td>0.405287</td>\n",
       "    </tr>\n",
       "    <tr>\n",
       "      <th>positive_sum</th>\n",
       "      <td>1.000000</td>\n",
       "      <td>0.708371</td>\n",
       "      <td>0.800018</td>\n",
       "      <td>0.775212</td>\n",
       "      <td>1.000000</td>\n",
       "      <td>0.665184</td>\n",
       "      <td>0.864253</td>\n",
       "      <td>0.796391</td>\n",
       "      <td>-0.221719</td>\n",
       "      <td>0.260680</td>\n",
       "      <td>-0.049774</td>\n",
       "      <td>0.185520</td>\n",
       "      <td>0.796391</td>\n",
       "      <td>0.368204</td>\n",
       "    </tr>\n",
       "    <tr>\n",
       "      <th>negative_sum</th>\n",
       "      <td>0.665184</td>\n",
       "      <td>0.983690</td>\n",
       "      <td>0.866071</td>\n",
       "      <td>0.781496</td>\n",
       "      <td>0.665184</td>\n",
       "      <td>1.000000</td>\n",
       "      <td>0.800018</td>\n",
       "      <td>0.872872</td>\n",
       "      <td>-0.548327</td>\n",
       "      <td>0.598214</td>\n",
       "      <td>0.143823</td>\n",
       "      <td>0.530349</td>\n",
       "      <td>0.736485</td>\n",
       "      <td>0.310023</td>\n",
       "    </tr>\n",
       "    <tr>\n",
       "      <th>neutral_sum</th>\n",
       "      <td>0.864253</td>\n",
       "      <td>0.845919</td>\n",
       "      <td>0.934853</td>\n",
       "      <td>0.914056</td>\n",
       "      <td>0.864253</td>\n",
       "      <td>0.800018</td>\n",
       "      <td>1.000000</td>\n",
       "      <td>0.933700</td>\n",
       "      <td>-0.357466</td>\n",
       "      <td>0.395515</td>\n",
       "      <td>0.085973</td>\n",
       "      <td>0.321267</td>\n",
       "      <td>0.933700</td>\n",
       "      <td>0.368204</td>\n",
       "    </tr>\n",
       "    <tr>\n",
       "      <th>mixed_sum</th>\n",
       "      <td>0.796391</td>\n",
       "      <td>0.918262</td>\n",
       "      <td>0.872872</td>\n",
       "      <td>0.842650</td>\n",
       "      <td>0.796391</td>\n",
       "      <td>0.872872</td>\n",
       "      <td>0.933700</td>\n",
       "      <td>1.000000</td>\n",
       "      <td>-0.439388</td>\n",
       "      <td>0.463713</td>\n",
       "      <td>0.027462</td>\n",
       "      <td>0.384465</td>\n",
       "      <td>0.861111</td>\n",
       "      <td>0.281181</td>\n",
       "    </tr>\n",
       "    <tr>\n",
       "      <th>positive_mean</th>\n",
       "      <td>-0.221719</td>\n",
       "      <td>-0.529559</td>\n",
       "      <td>-0.413493</td>\n",
       "      <td>-0.335539</td>\n",
       "      <td>-0.221719</td>\n",
       "      <td>-0.548327</td>\n",
       "      <td>-0.357466</td>\n",
       "      <td>-0.439388</td>\n",
       "      <td>1.000000</td>\n",
       "      <td>-0.548327</td>\n",
       "      <td>-0.592760</td>\n",
       "      <td>-0.493213</td>\n",
       "      <td>-0.302079</td>\n",
       "      <td>-0.363327</td>\n",
       "    </tr>\n",
       "    <tr>\n",
       "      <th>negative_mean</th>\n",
       "      <td>0.260680</td>\n",
       "      <td>0.573819</td>\n",
       "      <td>0.464286</td>\n",
       "      <td>0.505674</td>\n",
       "      <td>0.260680</td>\n",
       "      <td>0.598214</td>\n",
       "      <td>0.395515</td>\n",
       "      <td>0.463713</td>\n",
       "      <td>-0.548327</td>\n",
       "      <td>1.000000</td>\n",
       "      <td>0.143823</td>\n",
       "      <td>0.800018</td>\n",
       "      <td>0.463713</td>\n",
       "      <td>0.164700</td>\n",
       "    </tr>\n",
       "    <tr>\n",
       "      <th>neutral_mean</th>\n",
       "      <td>-0.049774</td>\n",
       "      <td>0.116916</td>\n",
       "      <td>0.143823</td>\n",
       "      <td>0.057852</td>\n",
       "      <td>-0.049774</td>\n",
       "      <td>0.143823</td>\n",
       "      <td>0.085973</td>\n",
       "      <td>0.027462</td>\n",
       "      <td>-0.592760</td>\n",
       "      <td>0.143823</td>\n",
       "      <td>1.000000</td>\n",
       "      <td>0.085973</td>\n",
       "      <td>0.027462</td>\n",
       "      <td>0.363327</td>\n",
       "    </tr>\n",
       "    <tr>\n",
       "      <th>mixed_mean</th>\n",
       "      <td>0.185520</td>\n",
       "      <td>0.502049</td>\n",
       "      <td>0.395515</td>\n",
       "      <td>0.428102</td>\n",
       "      <td>0.185520</td>\n",
       "      <td>0.530349</td>\n",
       "      <td>0.321267</td>\n",
       "      <td>0.384465</td>\n",
       "      <td>-0.493213</td>\n",
       "      <td>0.800018</td>\n",
       "      <td>0.085973</td>\n",
       "      <td>1.000000</td>\n",
       "      <td>0.384465</td>\n",
       "      <td>0.295051</td>\n",
       "    </tr>\n",
       "    <tr>\n",
       "      <th>TOTAL</th>\n",
       "      <td>0.796391</td>\n",
       "      <td>0.779132</td>\n",
       "      <td>0.872872</td>\n",
       "      <td>0.983092</td>\n",
       "      <td>0.796391</td>\n",
       "      <td>0.736485</td>\n",
       "      <td>0.933700</td>\n",
       "      <td>0.861111</td>\n",
       "      <td>-0.302079</td>\n",
       "      <td>0.463713</td>\n",
       "      <td>0.027462</td>\n",
       "      <td>0.384465</td>\n",
       "      <td>1.000000</td>\n",
       "      <td>0.355176</td>\n",
       "    </tr>\n",
       "    <tr>\n",
       "      <th>Final_result</th>\n",
       "      <td>0.368204</td>\n",
       "      <td>0.270552</td>\n",
       "      <td>0.455346</td>\n",
       "      <td>0.405287</td>\n",
       "      <td>0.368204</td>\n",
       "      <td>0.310023</td>\n",
       "      <td>0.368204</td>\n",
       "      <td>0.281181</td>\n",
       "      <td>-0.363327</td>\n",
       "      <td>0.164700</td>\n",
       "      <td>0.363327</td>\n",
       "      <td>0.295051</td>\n",
       "      <td>0.355176</td>\n",
       "      <td>1.000000</td>\n",
       "    </tr>\n",
       "  </tbody>\n",
       "</table>\n",
       "</div>"
      ],
      "text/plain": [
       "               POSITIVE  NEGATIVE   NEUTRAL     MIXED  positive_sum  \\\n",
       "POSITIVE       1.000000  0.708371  0.800018  0.775212      1.000000   \n",
       "NEGATIVE       0.708371  1.000000  0.847066  0.791360      0.708371   \n",
       "NEUTRAL        0.800018  0.847066  1.000000  0.919407      0.800018   \n",
       "MIXED          0.775212  0.791360  0.919407  1.000000      0.775212   \n",
       "positive_sum   1.000000  0.708371  0.800018  0.775212      1.000000   \n",
       "negative_sum   0.665184  0.983690  0.866071  0.781496      0.665184   \n",
       "neutral_sum    0.864253  0.845919  0.934853  0.914056      0.864253   \n",
       "mixed_sum      0.796391  0.918262  0.872872  0.842650      0.796391   \n",
       "positive_mean -0.221719 -0.529559 -0.413493 -0.335539     -0.221719   \n",
       "negative_mean  0.260680  0.573819  0.464286  0.505674      0.260680   \n",
       "neutral_mean  -0.049774  0.116916  0.143823  0.057852     -0.049774   \n",
       "mixed_mean     0.185520  0.502049  0.395515  0.428102      0.185520   \n",
       "TOTAL          0.796391  0.779132  0.872872  0.983092      0.796391   \n",
       "Final_result   0.368204  0.270552  0.455346  0.405287      0.368204   \n",
       "\n",
       "               negative_sum  neutral_sum  mixed_sum  positive_mean  \\\n",
       "POSITIVE           0.665184     0.864253   0.796391      -0.221719   \n",
       "NEGATIVE           0.983690     0.845919   0.918262      -0.529559   \n",
       "NEUTRAL            0.866071     0.934853   0.872872      -0.413493   \n",
       "MIXED              0.781496     0.914056   0.842650      -0.335539   \n",
       "positive_sum       0.665184     0.864253   0.796391      -0.221719   \n",
       "negative_sum       1.000000     0.800018   0.872872      -0.548327   \n",
       "neutral_sum        0.800018     1.000000   0.933700      -0.357466   \n",
       "mixed_sum          0.872872     0.933700   1.000000      -0.439388   \n",
       "positive_mean     -0.548327    -0.357466  -0.439388       1.000000   \n",
       "negative_mean      0.598214     0.395515   0.463713      -0.548327   \n",
       "neutral_mean       0.143823     0.085973   0.027462      -0.592760   \n",
       "mixed_mean         0.530349     0.321267   0.384465      -0.493213   \n",
       "TOTAL              0.736485     0.933700   0.861111      -0.302079   \n",
       "Final_result       0.310023     0.368204   0.281181      -0.363327   \n",
       "\n",
       "               negative_mean  neutral_mean  mixed_mean     TOTAL  Final_result  \n",
       "POSITIVE            0.260680     -0.049774    0.185520  0.796391      0.368204  \n",
       "NEGATIVE            0.573819      0.116916    0.502049  0.779132      0.270552  \n",
       "NEUTRAL             0.464286      0.143823    0.395515  0.872872      0.455346  \n",
       "MIXED               0.505674      0.057852    0.428102  0.983092      0.405287  \n",
       "positive_sum        0.260680     -0.049774    0.185520  0.796391      0.368204  \n",
       "negative_sum        0.598214      0.143823    0.530349  0.736485      0.310023  \n",
       "neutral_sum         0.395515      0.085973    0.321267  0.933700      0.368204  \n",
       "mixed_sum           0.463713      0.027462    0.384465  0.861111      0.281181  \n",
       "positive_mean      -0.548327     -0.592760   -0.493213 -0.302079     -0.363327  \n",
       "negative_mean       1.000000      0.143823    0.800018  0.463713      0.164700  \n",
       "neutral_mean        0.143823      1.000000    0.085973  0.027462      0.363327  \n",
       "mixed_mean          0.800018      0.085973    1.000000  0.384465      0.295051  \n",
       "TOTAL               0.463713      0.027462    0.384465  1.000000      0.355176  \n",
       "Final_result        0.164700      0.363327    0.295051  0.355176      1.000000  "
      ]
     },
     "execution_count": 29,
     "metadata": {},
     "output_type": "execute_result"
    }
   ],
   "source": [
    "comparaison.corr()"
   ]
  },
  {
   "cell_type": "code",
   "execution_count": null,
   "metadata": {},
   "outputs": [],
   "source": []
  }
 ],
 "metadata": {
  "kernelspec": {
   "display_name": "Python 3.7.3 64-bit ('base': conda)",
   "language": "python",
   "name": "python37364bitbaseconda270b403b761b4a47bff58cef981c28bc"
  },
  "language_info": {
   "codemirror_mode": {
    "name": "ipython",
    "version": 3
   },
   "file_extension": ".py",
   "mimetype": "text/x-python",
   "name": "python",
   "nbconvert_exporter": "python",
   "pygments_lexer": "ipython3",
   "version": "3.7.3"
  },
  "toc": {
   "base_numbering": 1,
   "nav_menu": {},
   "number_sections": true,
   "sideBar": true,
   "skip_h1_title": false,
   "title_cell": "Table of Contents",
   "title_sidebar": "Contents",
   "toc_cell": false,
   "toc_position": {},
   "toc_section_display": true,
   "toc_window_display": false
  }
 },
 "nbformat": 4,
 "nbformat_minor": 2
}
